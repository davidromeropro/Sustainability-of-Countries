{
 "cells": [
  {
   "attachments": {},
   "cell_type": "markdown",
   "metadata": {},
   "source": [
    "# **CODING DOJO: ONU Sustainability of Countries**\n",
    "## Creado por: David Romero\n",
    "\n",
    "* Fecha creado: 09/04/2023\n",
    "* Fecha de actualización: 09/04/2023\n",
    "* Descripción: Proyecto 2"
   ]
  },
  {
   "cell_type": "code",
   "execution_count": 490,
   "metadata": {},
   "outputs": [],
   "source": [
    "# Imports\n",
    "import pandas as pd\n",
    "from sklearn.compose import make_column_selector, make_column_transformer\n",
    "from sklearn.impute import SimpleImputer\n",
    "\n",
    "# Graphics\n",
    "import matplotlib.pyplot as plt\n",
    "\n",
    "from sklearn.preprocessing import LabelEncoder, StandardScaler\n",
    "from sklearn.cluster import DBSCAN\n",
    "pd.set_option('mode.chained_assignment', None)\n",
    "\n",
    "from sklearn.model_selection import train_test_split"
   ]
  },
  {
   "cell_type": "code",
   "execution_count": 421,
   "metadata": {},
   "outputs": [
    {
     "data": {
      "text/html": [
       "<div>\n",
       "<style scoped>\n",
       "    .dataframe tbody tr th:only-of-type {\n",
       "        vertical-align: middle;\n",
       "    }\n",
       "\n",
       "    .dataframe tbody tr th {\n",
       "        vertical-align: top;\n",
       "    }\n",
       "\n",
       "    .dataframe thead th {\n",
       "        text-align: right;\n",
       "    }\n",
       "</style>\n",
       "<table border=\"1\" class=\"dataframe\">\n",
       "  <thead>\n",
       "    <tr style=\"text-align: right;\">\n",
       "      <th></th>\n",
       "      <th>dt_year</th>\n",
       "      <th>dt_date</th>\n",
       "      <th>country</th>\n",
       "      <th>region</th>\n",
       "      <th>level_of_development</th>\n",
       "      <th>greenhousegas_emissione_mtco2equivalent</th>\n",
       "      <th>total_government_revenue_proportion_of_gdp_perc</th>\n",
       "      <th>fdi_inflows_millionusd</th>\n",
       "      <th>annual_growth_rate_perc</th>\n",
       "      <th>proportion_of_population_with_primary_reliance_on_clean_fuels_a</th>\n",
       "      <th>mortality_rate_perc</th>\n",
       "      <th>renewable_energy_share_on_the_total_energy_consumption</th>\n",
       "      <th>co2emissions_from_fuel_combustion_in_millions_of_tonnes</th>\n",
       "      <th>fossilfuel_subsidies_consumption_and_production_billionusd</th>\n",
       "      <th>randd_expenditure_proportionofgdp_perc</th>\n",
       "      <th>national_action_plans_as_priority_national_policies</th>\n",
       "      <th>number_of_companies_publishing_sustainability_reports</th>\n",
       "      <th>education_for_sustainable_development</th>\n",
       "      <th>enhance_policy_coherence_for_sustainable_development</th>\n",
       "      <th>land_degraded_over_total_land_area</th>\n",
       "    </tr>\n",
       "  </thead>\n",
       "  <tbody>\n",
       "    <tr>\n",
       "      <th>0</th>\n",
       "      <td>2002</td>\n",
       "      <td>2002-01-01</td>\n",
       "      <td>Afghanistan</td>\n",
       "      <td>Central and Southern Asia</td>\n",
       "      <td>Least Developed</td>\n",
       "      <td>NaN</td>\n",
       "      <td>NaN</td>\n",
       "      <td>0.68</td>\n",
       "      <td>0.420344</td>\n",
       "      <td>8.0</td>\n",
       "      <td>NaN</td>\n",
       "      <td>37.83</td>\n",
       "      <td>NaN</td>\n",
       "      <td>NaN</td>\n",
       "      <td>NaN</td>\n",
       "      <td>NaN</td>\n",
       "      <td>NaN</td>\n",
       "      <td>NaN</td>\n",
       "      <td>NaN</td>\n",
       "      <td>NaN</td>\n",
       "    </tr>\n",
       "    <tr>\n",
       "      <th>1</th>\n",
       "      <td>2003</td>\n",
       "      <td>2003-01-01</td>\n",
       "      <td>Afghanistan</td>\n",
       "      <td>Central and Southern Asia</td>\n",
       "      <td>Least Developed</td>\n",
       "      <td>NaN</td>\n",
       "      <td>0.120955</td>\n",
       "      <td>50.00</td>\n",
       "      <td>0.105249</td>\n",
       "      <td>9.0</td>\n",
       "      <td>NaN</td>\n",
       "      <td>36.66</td>\n",
       "      <td>NaN</td>\n",
       "      <td>NaN</td>\n",
       "      <td>NaN</td>\n",
       "      <td>NaN</td>\n",
       "      <td>NaN</td>\n",
       "      <td>NaN</td>\n",
       "      <td>NaN</td>\n",
       "      <td>NaN</td>\n",
       "    </tr>\n",
       "    <tr>\n",
       "      <th>2</th>\n",
       "      <td>2004</td>\n",
       "      <td>2004-01-01</td>\n",
       "      <td>Afghanistan</td>\n",
       "      <td>Central and Southern Asia</td>\n",
       "      <td>Least Developed</td>\n",
       "      <td>NaN</td>\n",
       "      <td>0.176214</td>\n",
       "      <td>57.80</td>\n",
       "      <td>-0.014901</td>\n",
       "      <td>11.0</td>\n",
       "      <td>NaN</td>\n",
       "      <td>44.24</td>\n",
       "      <td>NaN</td>\n",
       "      <td>NaN</td>\n",
       "      <td>NaN</td>\n",
       "      <td>NaN</td>\n",
       "      <td>NaN</td>\n",
       "      <td>NaN</td>\n",
       "      <td>NaN</td>\n",
       "      <td>NaN</td>\n",
       "    </tr>\n",
       "    <tr>\n",
       "      <th>3</th>\n",
       "      <td>2005</td>\n",
       "      <td>2005-01-01</td>\n",
       "      <td>Afghanistan</td>\n",
       "      <td>Central and Southern Asia</td>\n",
       "      <td>Least Developed</td>\n",
       "      <td>19.32802</td>\n",
       "      <td>0.180929</td>\n",
       "      <td>186.90</td>\n",
       "      <td>0.036212</td>\n",
       "      <td>12.0</td>\n",
       "      <td>0.409</td>\n",
       "      <td>33.88</td>\n",
       "      <td>NaN</td>\n",
       "      <td>NaN</td>\n",
       "      <td>NaN</td>\n",
       "      <td>NaN</td>\n",
       "      <td>NaN</td>\n",
       "      <td>NaN</td>\n",
       "      <td>NaN</td>\n",
       "      <td>NaN</td>\n",
       "    </tr>\n",
       "    <tr>\n",
       "      <th>4</th>\n",
       "      <td>2006</td>\n",
       "      <td>2006-01-01</td>\n",
       "      <td>Afghanistan</td>\n",
       "      <td>Central and Southern Asia</td>\n",
       "      <td>Least Developed</td>\n",
       "      <td>NaN</td>\n",
       "      <td>0.302234</td>\n",
       "      <td>271.00</td>\n",
       "      <td>0.053648</td>\n",
       "      <td>14.0</td>\n",
       "      <td>NaN</td>\n",
       "      <td>31.89</td>\n",
       "      <td>NaN</td>\n",
       "      <td>NaN</td>\n",
       "      <td>NaN</td>\n",
       "      <td>NaN</td>\n",
       "      <td>NaN</td>\n",
       "      <td>NaN</td>\n",
       "      <td>NaN</td>\n",
       "      <td>NaN</td>\n",
       "    </tr>\n",
       "  </tbody>\n",
       "</table>\n",
       "</div>"
      ],
      "text/plain": [
       "   dt_year     dt_date      country                     region  \\\n",
       "0     2002  2002-01-01  Afghanistan  Central and Southern Asia   \n",
       "1     2003  2003-01-01  Afghanistan  Central and Southern Asia   \n",
       "2     2004  2004-01-01  Afghanistan  Central and Southern Asia   \n",
       "3     2005  2005-01-01  Afghanistan  Central and Southern Asia   \n",
       "4     2006  2006-01-01  Afghanistan  Central and Southern Asia   \n",
       "\n",
       "  level_of_development  greenhousegas_emissione_mtco2equivalent  \\\n",
       "0      Least Developed                                      NaN   \n",
       "1      Least Developed                                      NaN   \n",
       "2      Least Developed                                      NaN   \n",
       "3      Least Developed                                 19.32802   \n",
       "4      Least Developed                                      NaN   \n",
       "\n",
       "   total_government_revenue_proportion_of_gdp_perc  fdi_inflows_millionusd  \\\n",
       "0                                              NaN                    0.68   \n",
       "1                                         0.120955                   50.00   \n",
       "2                                         0.176214                   57.80   \n",
       "3                                         0.180929                  186.90   \n",
       "4                                         0.302234                  271.00   \n",
       "\n",
       "   annual_growth_rate_perc  \\\n",
       "0                 0.420344   \n",
       "1                 0.105249   \n",
       "2                -0.014901   \n",
       "3                 0.036212   \n",
       "4                 0.053648   \n",
       "\n",
       "   proportion_of_population_with_primary_reliance_on_clean_fuels_a  \\\n",
       "0                                                8.0                 \n",
       "1                                                9.0                 \n",
       "2                                               11.0                 \n",
       "3                                               12.0                 \n",
       "4                                               14.0                 \n",
       "\n",
       "   mortality_rate_perc  \\\n",
       "0                  NaN   \n",
       "1                  NaN   \n",
       "2                  NaN   \n",
       "3                0.409   \n",
       "4                  NaN   \n",
       "\n",
       "   renewable_energy_share_on_the_total_energy_consumption  \\\n",
       "0                                              37.83        \n",
       "1                                              36.66        \n",
       "2                                              44.24        \n",
       "3                                              33.88        \n",
       "4                                              31.89        \n",
       "\n",
       "   co2emissions_from_fuel_combustion_in_millions_of_tonnes  \\\n",
       "0                                                NaN         \n",
       "1                                                NaN         \n",
       "2                                                NaN         \n",
       "3                                                NaN         \n",
       "4                                                NaN         \n",
       "\n",
       "   fossilfuel_subsidies_consumption_and_production_billionusd  \\\n",
       "0                                                NaN            \n",
       "1                                                NaN            \n",
       "2                                                NaN            \n",
       "3                                                NaN            \n",
       "4                                                NaN            \n",
       "\n",
       "   randd_expenditure_proportionofgdp_perc  \\\n",
       "0                                     NaN   \n",
       "1                                     NaN   \n",
       "2                                     NaN   \n",
       "3                                     NaN   \n",
       "4                                     NaN   \n",
       "\n",
       "   national_action_plans_as_priority_national_policies  \\\n",
       "0                                                NaN     \n",
       "1                                                NaN     \n",
       "2                                                NaN     \n",
       "3                                                NaN     \n",
       "4                                                NaN     \n",
       "\n",
       "   number_of_companies_publishing_sustainability_reports  \\\n",
       "0                                                NaN       \n",
       "1                                                NaN       \n",
       "2                                                NaN       \n",
       "3                                                NaN       \n",
       "4                                                NaN       \n",
       "\n",
       "   education_for_sustainable_development  \\\n",
       "0                                    NaN   \n",
       "1                                    NaN   \n",
       "2                                    NaN   \n",
       "3                                    NaN   \n",
       "4                                    NaN   \n",
       "\n",
       "   enhance_policy_coherence_for_sustainable_development  \\\n",
       "0                                                NaN      \n",
       "1                                                NaN      \n",
       "2                                                NaN      \n",
       "3                                                NaN      \n",
       "4                                                NaN      \n",
       "\n",
       "   land_degraded_over_total_land_area  \n",
       "0                                 NaN  \n",
       "1                                 NaN  \n",
       "2                                 NaN  \n",
       "3                                 NaN  \n",
       "4                                 NaN  "
      ]
     },
     "execution_count": 421,
     "metadata": {},
     "output_type": "execute_result"
    }
   ],
   "source": [
    "df = pd.read_csv('~/Developer/gdrive/CodingDojo/Week8/Assignments/unsdg_2002_2021.csv')\n",
    "df.head()"
   ]
  },
  {
   "cell_type": "code",
   "execution_count": 422,
   "metadata": {},
   "outputs": [],
   "source": [
    "# Creates a report of missing values\n",
    "def missing_values(df):\n",
    "    missing_values = pd.DataFrame(100*df.isna().sum()/df.shape[0], columns=['Missing %']).sort_values(by='Missing %', ascending=False)\n",
    "    missing_values['# Missing'] = df.isna().sum() \n",
    "    return missing_values"
   ]
  },
  {
   "cell_type": "code",
   "execution_count": 423,
   "metadata": {},
   "outputs": [],
   "source": [
    "# Creates a bar plot of countries by the top value of a feature.\n",
    "def bar_plot_feature(df, feature, units):\n",
    "    plt.figure(figsize=(10,6));\n",
    "    largest = df.nlargest(5, feature)\n",
    "    largest = pd.concat([largest, df.loc[df['country']=='Ecuador']])\n",
    "    colors = ['#1b9e77', '#a9f971', '#fdaa48','#6890F0','#A890F0']\n",
    "    y_pos = np.arange(len(largest))\n",
    "    plt.bar(y_pos, largest[feature],color=colors, alpha=.9)\n",
    "    plt.ylabel(units,fontsize=16);\n",
    "    plt.xlabel('Country',fontsize=16);\n",
    "    plt.xticks(y_pos, largest['country'], rotation=90),\n",
    "    plt.title(feature.upper().replace('_',' '), fontsize=16);"
   ]
  },
  {
   "cell_type": "code",
   "execution_count": 424,
   "metadata": {},
   "outputs": [],
   "source": [
    "# Find outliers\n",
    "# Source: https://careerfoundry.com/en/blog/data-analytics/how-to-find-outliers/\n",
    "def find_outliers_IQR(df):\n",
    "   q1=df.quantile(0.25)\n",
    "   q3=df.quantile(0.75)\n",
    "   IQR=q3-q1\n",
    "   outliers = df[((df<(q1-1.5*IQR)) | (df>(q3+1.5*IQR)))]\n",
    "   return outliers"
   ]
  },
  {
   "cell_type": "code",
   "execution_count": 425,
   "metadata": {},
   "outputs": [],
   "source": [
    "# Fix data type\n",
    "df['dt_date'] = pd.to_datetime(df['dt_date'])"
   ]
  },
  {
   "cell_type": "code",
   "execution_count": 426,
   "metadata": {},
   "outputs": [],
   "source": [
    "# Sort by date\n",
    "df = df.sort_values('dt_date')"
   ]
  },
  {
   "cell_type": "code",
   "execution_count": 427,
   "metadata": {},
   "outputs": [
    {
     "data": {
      "text/plain": [
       "(3376, 20)"
      ]
     },
     "execution_count": 427,
     "metadata": {},
     "output_type": "execute_result"
    }
   ],
   "source": [
    "# Remove rows that won't be used\n",
    "df = df.loc[df['level_of_development']!='Not Specified']\n",
    "df.shape"
   ]
  },
  {
   "cell_type": "code",
   "execution_count": 428,
   "metadata": {},
   "outputs": [
    {
     "data": {
      "text/html": [
       "<div>\n",
       "<style scoped>\n",
       "    .dataframe tbody tr th:only-of-type {\n",
       "        vertical-align: middle;\n",
       "    }\n",
       "\n",
       "    .dataframe tbody tr th {\n",
       "        vertical-align: top;\n",
       "    }\n",
       "\n",
       "    .dataframe thead th {\n",
       "        text-align: right;\n",
       "    }\n",
       "</style>\n",
       "<table border=\"1\" class=\"dataframe\">\n",
       "  <thead>\n",
       "    <tr style=\"text-align: right;\">\n",
       "      <th></th>\n",
       "      <th>Missing %</th>\n",
       "      <th># Missing</th>\n",
       "    </tr>\n",
       "  </thead>\n",
       "  <tbody>\n",
       "    <tr>\n",
       "      <th>enhance_policy_coherence_for_sustainable_development</th>\n",
       "      <td>99.289100</td>\n",
       "      <td>3352</td>\n",
       "    </tr>\n",
       "    <tr>\n",
       "      <th>national_action_plans_as_priority_national_policies</th>\n",
       "      <td>97.630332</td>\n",
       "      <td>3296</td>\n",
       "    </tr>\n",
       "    <tr>\n",
       "      <th>land_degraded_over_total_land_area</th>\n",
       "      <td>96.563981</td>\n",
       "      <td>3260</td>\n",
       "    </tr>\n",
       "    <tr>\n",
       "      <th>education_for_sustainable_development</th>\n",
       "      <td>95.142180</td>\n",
       "      <td>3212</td>\n",
       "    </tr>\n",
       "    <tr>\n",
       "      <th>number_of_companies_publishing_sustainability_reports</th>\n",
       "      <td>90.402844</td>\n",
       "      <td>3052</td>\n",
       "    </tr>\n",
       "    <tr>\n",
       "      <th>mortality_rate_perc</th>\n",
       "      <td>80.568720</td>\n",
       "      <td>2720</td>\n",
       "    </tr>\n",
       "    <tr>\n",
       "      <th>fossilfuel_subsidies_consumption_and_production_billionusd</th>\n",
       "      <td>71.001185</td>\n",
       "      <td>2397</td>\n",
       "    </tr>\n",
       "    <tr>\n",
       "      <th>greenhousegas_emissione_mtco2equivalent</th>\n",
       "      <td>67.357820</td>\n",
       "      <td>2274</td>\n",
       "    </tr>\n",
       "    <tr>\n",
       "      <th>randd_expenditure_proportionofgdp_perc</th>\n",
       "      <td>56.546209</td>\n",
       "      <td>1909</td>\n",
       "    </tr>\n",
       "    <tr>\n",
       "      <th>total_government_revenue_proportion_of_gdp_perc</th>\n",
       "      <td>31.605450</td>\n",
       "      <td>1067</td>\n",
       "    </tr>\n",
       "    <tr>\n",
       "      <th>co2emissions_from_fuel_combustion_in_millions_of_tonnes</th>\n",
       "      <td>27.340047</td>\n",
       "      <td>923</td>\n",
       "    </tr>\n",
       "    <tr>\n",
       "      <th>renewable_energy_share_on_the_total_energy_consumption</th>\n",
       "      <td>11.492891</td>\n",
       "      <td>388</td>\n",
       "    </tr>\n",
       "    <tr>\n",
       "      <th>proportion_of_population_with_primary_reliance_on_clean_fuels_a</th>\n",
       "      <td>8.886256</td>\n",
       "      <td>300</td>\n",
       "    </tr>\n",
       "    <tr>\n",
       "      <th>fdi_inflows_millionusd</th>\n",
       "      <td>7.997630</td>\n",
       "      <td>270</td>\n",
       "    </tr>\n",
       "    <tr>\n",
       "      <th>annual_growth_rate_perc</th>\n",
       "      <td>7.049763</td>\n",
       "      <td>238</td>\n",
       "    </tr>\n",
       "    <tr>\n",
       "      <th>dt_date</th>\n",
       "      <td>0.000000</td>\n",
       "      <td>0</td>\n",
       "    </tr>\n",
       "    <tr>\n",
       "      <th>level_of_development</th>\n",
       "      <td>0.000000</td>\n",
       "      <td>0</td>\n",
       "    </tr>\n",
       "    <tr>\n",
       "      <th>region</th>\n",
       "      <td>0.000000</td>\n",
       "      <td>0</td>\n",
       "    </tr>\n",
       "    <tr>\n",
       "      <th>country</th>\n",
       "      <td>0.000000</td>\n",
       "      <td>0</td>\n",
       "    </tr>\n",
       "    <tr>\n",
       "      <th>dt_year</th>\n",
       "      <td>0.000000</td>\n",
       "      <td>0</td>\n",
       "    </tr>\n",
       "  </tbody>\n",
       "</table>\n",
       "</div>"
      ],
      "text/plain": [
       "                                                    Missing %  # Missing\n",
       "enhance_policy_coherence_for_sustainable_develo...  99.289100       3352\n",
       "national_action_plans_as_priority_national_poli...  97.630332       3296\n",
       "land_degraded_over_total_land_area                  96.563981       3260\n",
       "education_for_sustainable_development               95.142180       3212\n",
       "number_of_companies_publishing_sustainability_r...  90.402844       3052\n",
       "mortality_rate_perc                                 80.568720       2720\n",
       "fossilfuel_subsidies_consumption_and_production...  71.001185       2397\n",
       "greenhousegas_emissione_mtco2equivalent             67.357820       2274\n",
       "randd_expenditure_proportionofgdp_perc              56.546209       1909\n",
       "total_government_revenue_proportion_of_gdp_perc     31.605450       1067\n",
       "co2emissions_from_fuel_combustion_in_millions_o...  27.340047        923\n",
       "renewable_energy_share_on_the_total_energy_cons...  11.492891        388\n",
       "proportion_of_population_with_primary_reliance_...   8.886256        300\n",
       "fdi_inflows_millionusd                               7.997630        270\n",
       "annual_growth_rate_perc                              7.049763        238\n",
       "dt_date                                              0.000000          0\n",
       "level_of_development                                 0.000000          0\n",
       "region                                               0.000000          0\n",
       "country                                              0.000000          0\n",
       "dt_year                                              0.000000          0"
      ]
     },
     "execution_count": 428,
     "metadata": {},
     "output_type": "execute_result"
    }
   ],
   "source": [
    "missing_values(df)"
   ]
  },
  {
   "attachments": {},
   "cell_type": "markdown",
   "metadata": {},
   "source": [
    "Too many missing values are present in the dataset, and imputing them is not feasible. Some variables have only one reported value, while others are reported every 5 years, making it impossible to estimate the missing values accurately."
   ]
  },
  {
   "cell_type": "code",
   "execution_count": 499,
   "metadata": {},
   "outputs": [
    {
     "name": "stdout",
     "output_type": "stream",
     "text": [
      "                                     level_of_development\n",
      "country     level_of_development                         \n",
      "Afghanistan Least Developed                           1.0\n",
      "Albania     Economies in Transition                   1.0\n",
      "Algeria     Developing Economies                      1.0\n",
      "Angola      Least Developed                           1.0\n",
      "Argentina   Developing Economies                      1.0\n",
      "Number of countries that changed their level of development level_of_development    0\n",
      "dtype: int64\n"
     ]
    }
   ],
   "source": [
    "# Check if any country has changed its level of development\n",
    "changed_level_of_development = pd.DataFrame(df.groupby('country')['level_of_development'].value_counts(normalize=True))\n",
    "print(changed_level_of_development.head())\n",
    "print('Number of countries that changed their level of development',(changed_level_of_development < 1).sum())"
   ]
  },
  {
   "attachments": {},
   "cell_type": "markdown",
   "metadata": {},
   "source": [
    "No country has changed its level of development in 20 years."
   ]
  },
  {
   "cell_type": "code",
   "execution_count": 430,
   "metadata": {},
   "outputs": [
    {
     "data": {
      "text/html": [
       "<div>\n",
       "<style scoped>\n",
       "    .dataframe tbody tr th:only-of-type {\n",
       "        vertical-align: middle;\n",
       "    }\n",
       "\n",
       "    .dataframe tbody tr th {\n",
       "        vertical-align: top;\n",
       "    }\n",
       "\n",
       "    .dataframe thead th {\n",
       "        text-align: right;\n",
       "    }\n",
       "</style>\n",
       "<table border=\"1\" class=\"dataframe\">\n",
       "  <thead>\n",
       "    <tr style=\"text-align: right;\">\n",
       "      <th></th>\n",
       "      <th>country</th>\n",
       "      <th>dt_year</th>\n",
       "      <th>dt_date</th>\n",
       "      <th>region</th>\n",
       "      <th>level_of_development</th>\n",
       "      <th>greenhousegas_emissione_mtco2equivalent</th>\n",
       "      <th>total_government_revenue_proportion_of_gdp_perc</th>\n",
       "      <th>fdi_inflows_millionusd</th>\n",
       "      <th>annual_growth_rate_perc</th>\n",
       "      <th>proportion_of_population_with_primary_reliance_on_clean_fuels_a</th>\n",
       "      <th>mortality_rate_perc</th>\n",
       "      <th>renewable_energy_share_on_the_total_energy_consumption</th>\n",
       "      <th>co2emissions_from_fuel_combustion_in_millions_of_tonnes</th>\n",
       "      <th>fossilfuel_subsidies_consumption_and_production_billionusd</th>\n",
       "      <th>randd_expenditure_proportionofgdp_perc</th>\n",
       "      <th>national_action_plans_as_priority_national_policies</th>\n",
       "      <th>number_of_companies_publishing_sustainability_reports</th>\n",
       "      <th>education_for_sustainable_development</th>\n",
       "      <th>enhance_policy_coherence_for_sustainable_development</th>\n",
       "      <th>land_degraded_over_total_land_area</th>\n",
       "    </tr>\n",
       "  </thead>\n",
       "  <tbody>\n",
       "    <tr>\n",
       "      <th>0</th>\n",
       "      <td>Afghanistan</td>\n",
       "      <td>2021</td>\n",
       "      <td>2021-01-01</td>\n",
       "      <td>Central and Southern Asia</td>\n",
       "      <td>Least Developed</td>\n",
       "      <td>43.37700</td>\n",
       "      <td>0.452478</td>\n",
       "      <td>38.53333</td>\n",
       "      <td>-0.041682</td>\n",
       "      <td>33.0</td>\n",
       "      <td>0.353</td>\n",
       "      <td>18.51</td>\n",
       "      <td>NaN</td>\n",
       "      <td>0.06024</td>\n",
       "      <td>NaN</td>\n",
       "      <td>NaN</td>\n",
       "      <td>NaN</td>\n",
       "      <td>0.000</td>\n",
       "      <td>NaN</td>\n",
       "      <td>8.0</td>\n",
       "    </tr>\n",
       "    <tr>\n",
       "      <th>1</th>\n",
       "      <td>Albania</td>\n",
       "      <td>2021</td>\n",
       "      <td>2021-01-01</td>\n",
       "      <td>Europe and North America</td>\n",
       "      <td>Economies in Transition</td>\n",
       "      <td>8.12570</td>\n",
       "      <td>0.264761</td>\n",
       "      <td>1287.97818</td>\n",
       "      <td>-0.032064</td>\n",
       "      <td>81.0</td>\n",
       "      <td>0.114</td>\n",
       "      <td>40.20</td>\n",
       "      <td>4.05</td>\n",
       "      <td>0.00000</td>\n",
       "      <td>0.001541</td>\n",
       "      <td>1.0</td>\n",
       "      <td>NaN</td>\n",
       "      <td>0.719</td>\n",
       "      <td>NaN</td>\n",
       "      <td>8.0</td>\n",
       "    </tr>\n",
       "    <tr>\n",
       "      <th>2</th>\n",
       "      <td>Algeria</td>\n",
       "      <td>2021</td>\n",
       "      <td>2021-01-01</td>\n",
       "      <td>North Africa and Western Asia</td>\n",
       "      <td>Developing Economies</td>\n",
       "      <td>NaN</td>\n",
       "      <td>0.404242</td>\n",
       "      <td>1381.81182</td>\n",
       "      <td>-0.066306</td>\n",
       "      <td>95.0</td>\n",
       "      <td>0.139</td>\n",
       "      <td>0.16</td>\n",
       "      <td>142.37</td>\n",
       "      <td>8.39641</td>\n",
       "      <td>0.005430</td>\n",
       "      <td>NaN</td>\n",
       "      <td>NaN</td>\n",
       "      <td>0.625</td>\n",
       "      <td>NaN</td>\n",
       "      <td>1.0</td>\n",
       "    </tr>\n",
       "    <tr>\n",
       "      <th>3</th>\n",
       "      <td>Angola</td>\n",
       "      <td>2021</td>\n",
       "      <td>2021-01-01</td>\n",
       "      <td>Sub-Saharan Africa</td>\n",
       "      <td>Least Developed</td>\n",
       "      <td>61.61076</td>\n",
       "      <td>0.202190</td>\n",
       "      <td>-4098.47875</td>\n",
       "      <td>-0.070799</td>\n",
       "      <td>50.0</td>\n",
       "      <td>0.222</td>\n",
       "      <td>54.69</td>\n",
       "      <td>18.77</td>\n",
       "      <td>1.52039</td>\n",
       "      <td>0.000323</td>\n",
       "      <td>NaN</td>\n",
       "      <td>NaN</td>\n",
       "      <td>0.000</td>\n",
       "      <td>NaN</td>\n",
       "      <td>20.0</td>\n",
       "    </tr>\n",
       "    <tr>\n",
       "      <th>4</th>\n",
       "      <td>Argentina</td>\n",
       "      <td>2021</td>\n",
       "      <td>2021-01-01</td>\n",
       "      <td>Latin America and the Caribbean</td>\n",
       "      <td>Developing Economies</td>\n",
       "      <td>338.96335</td>\n",
       "      <td>0.173196</td>\n",
       "      <td>6663.06211</td>\n",
       "      <td>-0.107327</td>\n",
       "      <td>95.0</td>\n",
       "      <td>0.157</td>\n",
       "      <td>10.74</td>\n",
       "      <td>162.22</td>\n",
       "      <td>4.31072</td>\n",
       "      <td>0.004936</td>\n",
       "      <td>1.0</td>\n",
       "      <td>48.0</td>\n",
       "      <td>0.000</td>\n",
       "      <td>NaN</td>\n",
       "      <td>39.0</td>\n",
       "    </tr>\n",
       "    <tr>\n",
       "      <th>...</th>\n",
       "      <td>...</td>\n",
       "      <td>...</td>\n",
       "      <td>...</td>\n",
       "      <td>...</td>\n",
       "      <td>...</td>\n",
       "      <td>...</td>\n",
       "      <td>...</td>\n",
       "      <td>...</td>\n",
       "      <td>...</td>\n",
       "      <td>...</td>\n",
       "      <td>...</td>\n",
       "      <td>...</td>\n",
       "      <td>...</td>\n",
       "      <td>...</td>\n",
       "      <td>...</td>\n",
       "      <td>...</td>\n",
       "      <td>...</td>\n",
       "      <td>...</td>\n",
       "      <td>...</td>\n",
       "      <td>...</td>\n",
       "    </tr>\n",
       "    <tr>\n",
       "      <th>164</th>\n",
       "      <td>Venezuela (Bolivarian Republic of)</td>\n",
       "      <td>2021</td>\n",
       "      <td>2021-01-01</td>\n",
       "      <td>Latin America and the Caribbean</td>\n",
       "      <td>Developing Economies</td>\n",
       "      <td>NaN</td>\n",
       "      <td>NaN</td>\n",
       "      <td>934.00000</td>\n",
       "      <td>-0.298033</td>\n",
       "      <td>95.0</td>\n",
       "      <td>0.148</td>\n",
       "      <td>15.62</td>\n",
       "      <td>90.09</td>\n",
       "      <td>4.75949</td>\n",
       "      <td>0.003371</td>\n",
       "      <td>NaN</td>\n",
       "      <td>NaN</td>\n",
       "      <td>0.000</td>\n",
       "      <td>NaN</td>\n",
       "      <td>15.0</td>\n",
       "    </tr>\n",
       "    <tr>\n",
       "      <th>165</th>\n",
       "      <td>Viet Nam</td>\n",
       "      <td>2021</td>\n",
       "      <td>2021-01-01</td>\n",
       "      <td>Eastern and South Eastern Asia</td>\n",
       "      <td>Developing Economies</td>\n",
       "      <td>278.44186</td>\n",
       "      <td>0.218163</td>\n",
       "      <td>16120.00000</td>\n",
       "      <td>0.019792</td>\n",
       "      <td>65.0</td>\n",
       "      <td>0.212</td>\n",
       "      <td>18.65</td>\n",
       "      <td>282.28</td>\n",
       "      <td>0.27111</td>\n",
       "      <td>0.005267</td>\n",
       "      <td>NaN</td>\n",
       "      <td>4.0</td>\n",
       "      <td>0.000</td>\n",
       "      <td>72.5</td>\n",
       "      <td>31.0</td>\n",
       "    </tr>\n",
       "    <tr>\n",
       "      <th>166</th>\n",
       "      <td>Yemen</td>\n",
       "      <td>2021</td>\n",
       "      <td>2021-01-01</td>\n",
       "      <td>North Africa and Western Asia</td>\n",
       "      <td>Least Developed</td>\n",
       "      <td>37.94287</td>\n",
       "      <td>NaN</td>\n",
       "      <td>-282.09833</td>\n",
       "      <td>-0.010497</td>\n",
       "      <td>62.0</td>\n",
       "      <td>0.276</td>\n",
       "      <td>3.11</td>\n",
       "      <td>9.60</td>\n",
       "      <td>0.00040</td>\n",
       "      <td>NaN</td>\n",
       "      <td>1.0</td>\n",
       "      <td>NaN</td>\n",
       "      <td>0.000</td>\n",
       "      <td>NaN</td>\n",
       "      <td>NaN</td>\n",
       "    </tr>\n",
       "    <tr>\n",
       "      <th>167</th>\n",
       "      <td>Zambia</td>\n",
       "      <td>2021</td>\n",
       "      <td>2021-01-01</td>\n",
       "      <td>Sub-Saharan Africa</td>\n",
       "      <td>Least Developed</td>\n",
       "      <td>NaN</td>\n",
       "      <td>0.199646</td>\n",
       "      <td>547.96791</td>\n",
       "      <td>-0.055503</td>\n",
       "      <td>10.0</td>\n",
       "      <td>0.246</td>\n",
       "      <td>84.50</td>\n",
       "      <td>5.74</td>\n",
       "      <td>0.18908</td>\n",
       "      <td>0.002782</td>\n",
       "      <td>NaN</td>\n",
       "      <td>NaN</td>\n",
       "      <td>0.000</td>\n",
       "      <td>NaN</td>\n",
       "      <td>7.0</td>\n",
       "    </tr>\n",
       "    <tr>\n",
       "      <th>168</th>\n",
       "      <td>Zimbabwe</td>\n",
       "      <td>2021</td>\n",
       "      <td>2021-01-01</td>\n",
       "      <td>Sub-Saharan Africa</td>\n",
       "      <td>Developing Economies</td>\n",
       "      <td>21.18472</td>\n",
       "      <td>0.132036</td>\n",
       "      <td>280.00000</td>\n",
       "      <td>-0.006748</td>\n",
       "      <td>30.0</td>\n",
       "      <td>0.284</td>\n",
       "      <td>81.50</td>\n",
       "      <td>11.06</td>\n",
       "      <td>0.00000</td>\n",
       "      <td>NaN</td>\n",
       "      <td>1.0</td>\n",
       "      <td>2.0</td>\n",
       "      <td>0.000</td>\n",
       "      <td>NaN</td>\n",
       "      <td>36.0</td>\n",
       "    </tr>\n",
       "  </tbody>\n",
       "</table>\n",
       "<p>169 rows × 20 columns</p>\n",
       "</div>"
      ],
      "text/plain": [
       "                                country  dt_year    dt_date  \\\n",
       "0                           Afghanistan     2021 2021-01-01   \n",
       "1                               Albania     2021 2021-01-01   \n",
       "2                               Algeria     2021 2021-01-01   \n",
       "3                                Angola     2021 2021-01-01   \n",
       "4                             Argentina     2021 2021-01-01   \n",
       "..                                  ...      ...        ...   \n",
       "164  Venezuela (Bolivarian Republic of)     2021 2021-01-01   \n",
       "165                            Viet Nam     2021 2021-01-01   \n",
       "166                               Yemen     2021 2021-01-01   \n",
       "167                              Zambia     2021 2021-01-01   \n",
       "168                            Zimbabwe     2021 2021-01-01   \n",
       "\n",
       "                              region     level_of_development  \\\n",
       "0          Central and Southern Asia          Least Developed   \n",
       "1           Europe and North America  Economies in Transition   \n",
       "2      North Africa and Western Asia     Developing Economies   \n",
       "3                 Sub-Saharan Africa          Least Developed   \n",
       "4    Latin America and the Caribbean     Developing Economies   \n",
       "..                               ...                      ...   \n",
       "164  Latin America and the Caribbean     Developing Economies   \n",
       "165   Eastern and South Eastern Asia     Developing Economies   \n",
       "166    North Africa and Western Asia          Least Developed   \n",
       "167               Sub-Saharan Africa          Least Developed   \n",
       "168               Sub-Saharan Africa     Developing Economies   \n",
       "\n",
       "     greenhousegas_emissione_mtco2equivalent  \\\n",
       "0                                   43.37700   \n",
       "1                                    8.12570   \n",
       "2                                        NaN   \n",
       "3                                   61.61076   \n",
       "4                                  338.96335   \n",
       "..                                       ...   \n",
       "164                                      NaN   \n",
       "165                                278.44186   \n",
       "166                                 37.94287   \n",
       "167                                      NaN   \n",
       "168                                 21.18472   \n",
       "\n",
       "     total_government_revenue_proportion_of_gdp_perc  fdi_inflows_millionusd  \\\n",
       "0                                           0.452478                38.53333   \n",
       "1                                           0.264761              1287.97818   \n",
       "2                                           0.404242              1381.81182   \n",
       "3                                           0.202190             -4098.47875   \n",
       "4                                           0.173196              6663.06211   \n",
       "..                                               ...                     ...   \n",
       "164                                              NaN               934.00000   \n",
       "165                                         0.218163             16120.00000   \n",
       "166                                              NaN              -282.09833   \n",
       "167                                         0.199646               547.96791   \n",
       "168                                         0.132036               280.00000   \n",
       "\n",
       "     annual_growth_rate_perc  \\\n",
       "0                  -0.041682   \n",
       "1                  -0.032064   \n",
       "2                  -0.066306   \n",
       "3                  -0.070799   \n",
       "4                  -0.107327   \n",
       "..                       ...   \n",
       "164                -0.298033   \n",
       "165                 0.019792   \n",
       "166                -0.010497   \n",
       "167                -0.055503   \n",
       "168                -0.006748   \n",
       "\n",
       "     proportion_of_population_with_primary_reliance_on_clean_fuels_a  \\\n",
       "0                                                 33.0                 \n",
       "1                                                 81.0                 \n",
       "2                                                 95.0                 \n",
       "3                                                 50.0                 \n",
       "4                                                 95.0                 \n",
       "..                                                 ...                 \n",
       "164                                               95.0                 \n",
       "165                                               65.0                 \n",
       "166                                               62.0                 \n",
       "167                                               10.0                 \n",
       "168                                               30.0                 \n",
       "\n",
       "     mortality_rate_perc  \\\n",
       "0                  0.353   \n",
       "1                  0.114   \n",
       "2                  0.139   \n",
       "3                  0.222   \n",
       "4                  0.157   \n",
       "..                   ...   \n",
       "164                0.148   \n",
       "165                0.212   \n",
       "166                0.276   \n",
       "167                0.246   \n",
       "168                0.284   \n",
       "\n",
       "     renewable_energy_share_on_the_total_energy_consumption  \\\n",
       "0                                                18.51        \n",
       "1                                                40.20        \n",
       "2                                                 0.16        \n",
       "3                                                54.69        \n",
       "4                                                10.74        \n",
       "..                                                 ...        \n",
       "164                                              15.62        \n",
       "165                                              18.65        \n",
       "166                                               3.11        \n",
       "167                                              84.50        \n",
       "168                                              81.50        \n",
       "\n",
       "     co2emissions_from_fuel_combustion_in_millions_of_tonnes  \\\n",
       "0                                                  NaN         \n",
       "1                                                 4.05         \n",
       "2                                               142.37         \n",
       "3                                                18.77         \n",
       "4                                               162.22         \n",
       "..                                                 ...         \n",
       "164                                              90.09         \n",
       "165                                             282.28         \n",
       "166                                               9.60         \n",
       "167                                               5.74         \n",
       "168                                              11.06         \n",
       "\n",
       "     fossilfuel_subsidies_consumption_and_production_billionusd  \\\n",
       "0                                              0.06024            \n",
       "1                                              0.00000            \n",
       "2                                              8.39641            \n",
       "3                                              1.52039            \n",
       "4                                              4.31072            \n",
       "..                                                 ...            \n",
       "164                                            4.75949            \n",
       "165                                            0.27111            \n",
       "166                                            0.00040            \n",
       "167                                            0.18908            \n",
       "168                                            0.00000            \n",
       "\n",
       "     randd_expenditure_proportionofgdp_perc  \\\n",
       "0                                       NaN   \n",
       "1                                  0.001541   \n",
       "2                                  0.005430   \n",
       "3                                  0.000323   \n",
       "4                                  0.004936   \n",
       "..                                      ...   \n",
       "164                                0.003371   \n",
       "165                                0.005267   \n",
       "166                                     NaN   \n",
       "167                                0.002782   \n",
       "168                                     NaN   \n",
       "\n",
       "     national_action_plans_as_priority_national_policies  \\\n",
       "0                                                  NaN     \n",
       "1                                                  1.0     \n",
       "2                                                  NaN     \n",
       "3                                                  NaN     \n",
       "4                                                  1.0     \n",
       "..                                                 ...     \n",
       "164                                                NaN     \n",
       "165                                                NaN     \n",
       "166                                                1.0     \n",
       "167                                                NaN     \n",
       "168                                                1.0     \n",
       "\n",
       "     number_of_companies_publishing_sustainability_reports  \\\n",
       "0                                                  NaN       \n",
       "1                                                  NaN       \n",
       "2                                                  NaN       \n",
       "3                                                  NaN       \n",
       "4                                                 48.0       \n",
       "..                                                 ...       \n",
       "164                                                NaN       \n",
       "165                                                4.0       \n",
       "166                                                NaN       \n",
       "167                                                NaN       \n",
       "168                                                2.0       \n",
       "\n",
       "     education_for_sustainable_development  \\\n",
       "0                                    0.000   \n",
       "1                                    0.719   \n",
       "2                                    0.625   \n",
       "3                                    0.000   \n",
       "4                                    0.000   \n",
       "..                                     ...   \n",
       "164                                  0.000   \n",
       "165                                  0.000   \n",
       "166                                  0.000   \n",
       "167                                  0.000   \n",
       "168                                  0.000   \n",
       "\n",
       "     enhance_policy_coherence_for_sustainable_development  \\\n",
       "0                                                  NaN      \n",
       "1                                                  NaN      \n",
       "2                                                  NaN      \n",
       "3                                                  NaN      \n",
       "4                                                  NaN      \n",
       "..                                                 ...      \n",
       "164                                                NaN      \n",
       "165                                               72.5      \n",
       "166                                                NaN      \n",
       "167                                                NaN      \n",
       "168                                                NaN      \n",
       "\n",
       "     land_degraded_over_total_land_area  \n",
       "0                                   8.0  \n",
       "1                                   8.0  \n",
       "2                                   1.0  \n",
       "3                                  20.0  \n",
       "4                                  39.0  \n",
       "..                                  ...  \n",
       "164                                15.0  \n",
       "165                                31.0  \n",
       "166                                 NaN  \n",
       "167                                 7.0  \n",
       "168                                36.0  \n",
       "\n",
       "[169 rows x 20 columns]"
      ]
     },
     "execution_count": 430,
     "metadata": {},
     "output_type": "execute_result"
    }
   ],
   "source": [
    "# Group by country and take the latest value available\n",
    "latest_values = df.groupby('country').last().reset_index()\n",
    "latest_values"
   ]
  },
  {
   "cell_type": "code",
   "execution_count": 431,
   "metadata": {},
   "outputs": [
    {
     "data": {
      "text/html": [
       "<div>\n",
       "<style scoped>\n",
       "    .dataframe tbody tr th:only-of-type {\n",
       "        vertical-align: middle;\n",
       "    }\n",
       "\n",
       "    .dataframe tbody tr th {\n",
       "        vertical-align: top;\n",
       "    }\n",
       "\n",
       "    .dataframe thead th {\n",
       "        text-align: right;\n",
       "    }\n",
       "</style>\n",
       "<table border=\"1\" class=\"dataframe\">\n",
       "  <thead>\n",
       "    <tr style=\"text-align: right;\">\n",
       "      <th></th>\n",
       "      <th>Missing %</th>\n",
       "      <th># Missing</th>\n",
       "    </tr>\n",
       "  </thead>\n",
       "  <tbody>\n",
       "    <tr>\n",
       "      <th>enhance_policy_coherence_for_sustainable_development</th>\n",
       "      <td>85.798817</td>\n",
       "      <td>145</td>\n",
       "    </tr>\n",
       "    <tr>\n",
       "      <th>number_of_companies_publishing_sustainability_reports</th>\n",
       "      <td>57.988166</td>\n",
       "      <td>98</td>\n",
       "    </tr>\n",
       "    <tr>\n",
       "      <th>national_action_plans_as_priority_national_policies</th>\n",
       "      <td>52.662722</td>\n",
       "      <td>89</td>\n",
       "    </tr>\n",
       "    <tr>\n",
       "      <th>land_degraded_over_total_land_area</th>\n",
       "      <td>31.360947</td>\n",
       "      <td>53</td>\n",
       "    </tr>\n",
       "    <tr>\n",
       "      <th>greenhousegas_emissione_mtco2equivalent</th>\n",
       "      <td>28.402367</td>\n",
       "      <td>48</td>\n",
       "    </tr>\n",
       "    <tr>\n",
       "      <th>randd_expenditure_proportionofgdp_perc</th>\n",
       "      <td>21.301775</td>\n",
       "      <td>36</td>\n",
       "    </tr>\n",
       "    <tr>\n",
       "      <th>co2emissions_from_fuel_combustion_in_millions_of_tonnes</th>\n",
       "      <td>18.934911</td>\n",
       "      <td>32</td>\n",
       "    </tr>\n",
       "    <tr>\n",
       "      <th>total_government_revenue_proportion_of_gdp_perc</th>\n",
       "      <td>11.834320</td>\n",
       "      <td>20</td>\n",
       "    </tr>\n",
       "    <tr>\n",
       "      <th>proportion_of_population_with_primary_reliance_on_clean_fuels_a</th>\n",
       "      <td>4.142012</td>\n",
       "      <td>7</td>\n",
       "    </tr>\n",
       "    <tr>\n",
       "      <th>education_for_sustainable_development</th>\n",
       "      <td>2.958580</td>\n",
       "      <td>5</td>\n",
       "    </tr>\n",
       "    <tr>\n",
       "      <th>fossilfuel_subsidies_consumption_and_production_billionusd</th>\n",
       "      <td>2.958580</td>\n",
       "      <td>5</td>\n",
       "    </tr>\n",
       "    <tr>\n",
       "      <th>mortality_rate_perc</th>\n",
       "      <td>2.958580</td>\n",
       "      <td>5</td>\n",
       "    </tr>\n",
       "    <tr>\n",
       "      <th>fdi_inflows_millionusd</th>\n",
       "      <td>2.366864</td>\n",
       "      <td>4</td>\n",
       "    </tr>\n",
       "    <tr>\n",
       "      <th>renewable_energy_share_on_the_total_energy_consumption</th>\n",
       "      <td>1.775148</td>\n",
       "      <td>3</td>\n",
       "    </tr>\n",
       "    <tr>\n",
       "      <th>annual_growth_rate_perc</th>\n",
       "      <td>1.775148</td>\n",
       "      <td>3</td>\n",
       "    </tr>\n",
       "    <tr>\n",
       "      <th>dt_year</th>\n",
       "      <td>0.000000</td>\n",
       "      <td>0</td>\n",
       "    </tr>\n",
       "    <tr>\n",
       "      <th>level_of_development</th>\n",
       "      <td>0.000000</td>\n",
       "      <td>0</td>\n",
       "    </tr>\n",
       "    <tr>\n",
       "      <th>region</th>\n",
       "      <td>0.000000</td>\n",
       "      <td>0</td>\n",
       "    </tr>\n",
       "    <tr>\n",
       "      <th>dt_date</th>\n",
       "      <td>0.000000</td>\n",
       "      <td>0</td>\n",
       "    </tr>\n",
       "    <tr>\n",
       "      <th>country</th>\n",
       "      <td>0.000000</td>\n",
       "      <td>0</td>\n",
       "    </tr>\n",
       "  </tbody>\n",
       "</table>\n",
       "</div>"
      ],
      "text/plain": [
       "                                                    Missing %  # Missing\n",
       "enhance_policy_coherence_for_sustainable_develo...  85.798817        145\n",
       "number_of_companies_publishing_sustainability_r...  57.988166         98\n",
       "national_action_plans_as_priority_national_poli...  52.662722         89\n",
       "land_degraded_over_total_land_area                  31.360947         53\n",
       "greenhousegas_emissione_mtco2equivalent             28.402367         48\n",
       "randd_expenditure_proportionofgdp_perc              21.301775         36\n",
       "co2emissions_from_fuel_combustion_in_millions_o...  18.934911         32\n",
       "total_government_revenue_proportion_of_gdp_perc     11.834320         20\n",
       "proportion_of_population_with_primary_reliance_...   4.142012          7\n",
       "education_for_sustainable_development                2.958580          5\n",
       "fossilfuel_subsidies_consumption_and_production...   2.958580          5\n",
       "mortality_rate_perc                                  2.958580          5\n",
       "fdi_inflows_millionusd                               2.366864          4\n",
       "renewable_energy_share_on_the_total_energy_cons...   1.775148          3\n",
       "annual_growth_rate_perc                              1.775148          3\n",
       "dt_year                                              0.000000          0\n",
       "level_of_development                                 0.000000          0\n",
       "region                                               0.000000          0\n",
       "dt_date                                              0.000000          0\n",
       "country                                              0.000000          0"
      ]
     },
     "execution_count": 431,
     "metadata": {},
     "output_type": "execute_result"
    }
   ],
   "source": [
    "missing_values(latest_values)"
   ]
  },
  {
   "cell_type": "code",
   "execution_count": 432,
   "metadata": {},
   "outputs": [],
   "source": [
    "# Drop columns that won't be used.\n",
    "latest_values.drop(columns = ['dt_year', 'dt_date', 'region'], inplace=True)"
   ]
  },
  {
   "cell_type": "code",
   "execution_count": 433,
   "metadata": {},
   "outputs": [],
   "source": [
    "# Drop columns that have too many missing values\n",
    "latest_values.drop(columns = ['enhance_policy_coherence_for_sustainable_development', 'number_of_companies_publishing_sustainability_reports', 'national_action_plans_as_priority_national_policies'], inplace=True)"
   ]
  },
  {
   "cell_type": "code",
   "execution_count": 434,
   "metadata": {},
   "outputs": [
    {
     "data": {
      "text/html": [
       "<div>\n",
       "<style scoped>\n",
       "    .dataframe tbody tr th:only-of-type {\n",
       "        vertical-align: middle;\n",
       "    }\n",
       "\n",
       "    .dataframe tbody tr th {\n",
       "        vertical-align: top;\n",
       "    }\n",
       "\n",
       "    .dataframe thead th {\n",
       "        text-align: right;\n",
       "    }\n",
       "</style>\n",
       "<table border=\"1\" class=\"dataframe\">\n",
       "  <thead>\n",
       "    <tr style=\"text-align: right;\">\n",
       "      <th></th>\n",
       "      <th>Missing %</th>\n",
       "      <th># Missing</th>\n",
       "    </tr>\n",
       "  </thead>\n",
       "  <tbody>\n",
       "    <tr>\n",
       "      <th>land_degraded_over_total_land_area</th>\n",
       "      <td>31.360947</td>\n",
       "      <td>53</td>\n",
       "    </tr>\n",
       "    <tr>\n",
       "      <th>greenhousegas_emissione_mtco2equivalent</th>\n",
       "      <td>28.402367</td>\n",
       "      <td>48</td>\n",
       "    </tr>\n",
       "    <tr>\n",
       "      <th>randd_expenditure_proportionofgdp_perc</th>\n",
       "      <td>21.301775</td>\n",
       "      <td>36</td>\n",
       "    </tr>\n",
       "    <tr>\n",
       "      <th>co2emissions_from_fuel_combustion_in_millions_of_tonnes</th>\n",
       "      <td>18.934911</td>\n",
       "      <td>32</td>\n",
       "    </tr>\n",
       "    <tr>\n",
       "      <th>total_government_revenue_proportion_of_gdp_perc</th>\n",
       "      <td>11.834320</td>\n",
       "      <td>20</td>\n",
       "    </tr>\n",
       "    <tr>\n",
       "      <th>proportion_of_population_with_primary_reliance_on_clean_fuels_a</th>\n",
       "      <td>4.142012</td>\n",
       "      <td>7</td>\n",
       "    </tr>\n",
       "    <tr>\n",
       "      <th>mortality_rate_perc</th>\n",
       "      <td>2.958580</td>\n",
       "      <td>5</td>\n",
       "    </tr>\n",
       "    <tr>\n",
       "      <th>fossilfuel_subsidies_consumption_and_production_billionusd</th>\n",
       "      <td>2.958580</td>\n",
       "      <td>5</td>\n",
       "    </tr>\n",
       "    <tr>\n",
       "      <th>education_for_sustainable_development</th>\n",
       "      <td>2.958580</td>\n",
       "      <td>5</td>\n",
       "    </tr>\n",
       "    <tr>\n",
       "      <th>fdi_inflows_millionusd</th>\n",
       "      <td>2.366864</td>\n",
       "      <td>4</td>\n",
       "    </tr>\n",
       "    <tr>\n",
       "      <th>annual_growth_rate_perc</th>\n",
       "      <td>1.775148</td>\n",
       "      <td>3</td>\n",
       "    </tr>\n",
       "    <tr>\n",
       "      <th>renewable_energy_share_on_the_total_energy_consumption</th>\n",
       "      <td>1.775148</td>\n",
       "      <td>3</td>\n",
       "    </tr>\n",
       "    <tr>\n",
       "      <th>country</th>\n",
       "      <td>0.000000</td>\n",
       "      <td>0</td>\n",
       "    </tr>\n",
       "    <tr>\n",
       "      <th>level_of_development</th>\n",
       "      <td>0.000000</td>\n",
       "      <td>0</td>\n",
       "    </tr>\n",
       "  </tbody>\n",
       "</table>\n",
       "</div>"
      ],
      "text/plain": [
       "                                                    Missing %  # Missing\n",
       "land_degraded_over_total_land_area                  31.360947         53\n",
       "greenhousegas_emissione_mtco2equivalent             28.402367         48\n",
       "randd_expenditure_proportionofgdp_perc              21.301775         36\n",
       "co2emissions_from_fuel_combustion_in_millions_o...  18.934911         32\n",
       "total_government_revenue_proportion_of_gdp_perc     11.834320         20\n",
       "proportion_of_population_with_primary_reliance_...   4.142012          7\n",
       "mortality_rate_perc                                  2.958580          5\n",
       "fossilfuel_subsidies_consumption_and_production...   2.958580          5\n",
       "education_for_sustainable_development                2.958580          5\n",
       "fdi_inflows_millionusd                               2.366864          4\n",
       "annual_growth_rate_perc                              1.775148          3\n",
       "renewable_energy_share_on_the_total_energy_cons...   1.775148          3\n",
       "country                                              0.000000          0\n",
       "level_of_development                                 0.000000          0"
      ]
     },
     "execution_count": 434,
     "metadata": {},
     "output_type": "execute_result"
    }
   ],
   "source": [
    "missing_values(latest_values)"
   ]
  },
  {
   "cell_type": "code",
   "execution_count": 435,
   "metadata": {},
   "outputs": [
    {
     "data": {
      "text/html": [
       "<div>\n",
       "<style scoped>\n",
       "    .dataframe tbody tr th:only-of-type {\n",
       "        vertical-align: middle;\n",
       "    }\n",
       "\n",
       "    .dataframe tbody tr th {\n",
       "        vertical-align: top;\n",
       "    }\n",
       "\n",
       "    .dataframe thead th {\n",
       "        text-align: right;\n",
       "    }\n",
       "</style>\n",
       "<table border=\"1\" class=\"dataframe\">\n",
       "  <thead>\n",
       "    <tr style=\"text-align: right;\">\n",
       "      <th></th>\n",
       "      <th>country</th>\n",
       "      <th>level_of_development</th>\n",
       "      <th>greenhousegas_emissione_mtco2equivalent</th>\n",
       "      <th>total_government_revenue_proportion_of_gdp_perc</th>\n",
       "      <th>fdi_inflows_millionusd</th>\n",
       "      <th>annual_growth_rate_perc</th>\n",
       "      <th>proportion_of_population_with_primary_reliance_on_clean_fuels_a</th>\n",
       "      <th>mortality_rate_perc</th>\n",
       "      <th>renewable_energy_share_on_the_total_energy_consumption</th>\n",
       "      <th>co2emissions_from_fuel_combustion_in_millions_of_tonnes</th>\n",
       "      <th>fossilfuel_subsidies_consumption_and_production_billionusd</th>\n",
       "      <th>randd_expenditure_proportionofgdp_perc</th>\n",
       "      <th>education_for_sustainable_development</th>\n",
       "      <th>land_degraded_over_total_land_area</th>\n",
       "    </tr>\n",
       "  </thead>\n",
       "  <tbody>\n",
       "    <tr>\n",
       "      <th>0</th>\n",
       "      <td>Afghanistan</td>\n",
       "      <td>Least Developed</td>\n",
       "      <td>43.37700</td>\n",
       "      <td>0.452478</td>\n",
       "      <td>38.53333</td>\n",
       "      <td>-0.041682</td>\n",
       "      <td>33.0</td>\n",
       "      <td>0.353</td>\n",
       "      <td>18.51</td>\n",
       "      <td>NaN</td>\n",
       "      <td>0.06024</td>\n",
       "      <td>NaN</td>\n",
       "      <td>0.000</td>\n",
       "      <td>8.0</td>\n",
       "    </tr>\n",
       "    <tr>\n",
       "      <th>1</th>\n",
       "      <td>Albania</td>\n",
       "      <td>Economies in Transition</td>\n",
       "      <td>8.12570</td>\n",
       "      <td>0.264761</td>\n",
       "      <td>1287.97818</td>\n",
       "      <td>-0.032064</td>\n",
       "      <td>81.0</td>\n",
       "      <td>0.114</td>\n",
       "      <td>40.20</td>\n",
       "      <td>4.05</td>\n",
       "      <td>0.00000</td>\n",
       "      <td>0.001541</td>\n",
       "      <td>0.719</td>\n",
       "      <td>8.0</td>\n",
       "    </tr>\n",
       "    <tr>\n",
       "      <th>2</th>\n",
       "      <td>Algeria</td>\n",
       "      <td>Developing Economies</td>\n",
       "      <td>NaN</td>\n",
       "      <td>0.404242</td>\n",
       "      <td>1381.81182</td>\n",
       "      <td>-0.066306</td>\n",
       "      <td>95.0</td>\n",
       "      <td>0.139</td>\n",
       "      <td>0.16</td>\n",
       "      <td>142.37</td>\n",
       "      <td>8.39641</td>\n",
       "      <td>0.005430</td>\n",
       "      <td>0.625</td>\n",
       "      <td>1.0</td>\n",
       "    </tr>\n",
       "    <tr>\n",
       "      <th>3</th>\n",
       "      <td>Angola</td>\n",
       "      <td>Least Developed</td>\n",
       "      <td>61.61076</td>\n",
       "      <td>0.202190</td>\n",
       "      <td>-4098.47875</td>\n",
       "      <td>-0.070799</td>\n",
       "      <td>50.0</td>\n",
       "      <td>0.222</td>\n",
       "      <td>54.69</td>\n",
       "      <td>18.77</td>\n",
       "      <td>1.52039</td>\n",
       "      <td>0.000323</td>\n",
       "      <td>0.000</td>\n",
       "      <td>20.0</td>\n",
       "    </tr>\n",
       "    <tr>\n",
       "      <th>4</th>\n",
       "      <td>Argentina</td>\n",
       "      <td>Developing Economies</td>\n",
       "      <td>338.96335</td>\n",
       "      <td>0.173196</td>\n",
       "      <td>6663.06211</td>\n",
       "      <td>-0.107327</td>\n",
       "      <td>95.0</td>\n",
       "      <td>0.157</td>\n",
       "      <td>10.74</td>\n",
       "      <td>162.22</td>\n",
       "      <td>4.31072</td>\n",
       "      <td>0.004936</td>\n",
       "      <td>0.000</td>\n",
       "      <td>39.0</td>\n",
       "    </tr>\n",
       "    <tr>\n",
       "      <th>...</th>\n",
       "      <td>...</td>\n",
       "      <td>...</td>\n",
       "      <td>...</td>\n",
       "      <td>...</td>\n",
       "      <td>...</td>\n",
       "      <td>...</td>\n",
       "      <td>...</td>\n",
       "      <td>...</td>\n",
       "      <td>...</td>\n",
       "      <td>...</td>\n",
       "      <td>...</td>\n",
       "      <td>...</td>\n",
       "      <td>...</td>\n",
       "      <td>...</td>\n",
       "    </tr>\n",
       "    <tr>\n",
       "      <th>164</th>\n",
       "      <td>Venezuela (Bolivarian Republic of)</td>\n",
       "      <td>Developing Economies</td>\n",
       "      <td>NaN</td>\n",
       "      <td>NaN</td>\n",
       "      <td>934.00000</td>\n",
       "      <td>-0.298033</td>\n",
       "      <td>95.0</td>\n",
       "      <td>0.148</td>\n",
       "      <td>15.62</td>\n",
       "      <td>90.09</td>\n",
       "      <td>4.75949</td>\n",
       "      <td>0.003371</td>\n",
       "      <td>0.000</td>\n",
       "      <td>15.0</td>\n",
       "    </tr>\n",
       "    <tr>\n",
       "      <th>165</th>\n",
       "      <td>Viet Nam</td>\n",
       "      <td>Developing Economies</td>\n",
       "      <td>278.44186</td>\n",
       "      <td>0.218163</td>\n",
       "      <td>16120.00000</td>\n",
       "      <td>0.019792</td>\n",
       "      <td>65.0</td>\n",
       "      <td>0.212</td>\n",
       "      <td>18.65</td>\n",
       "      <td>282.28</td>\n",
       "      <td>0.27111</td>\n",
       "      <td>0.005267</td>\n",
       "      <td>0.000</td>\n",
       "      <td>31.0</td>\n",
       "    </tr>\n",
       "    <tr>\n",
       "      <th>166</th>\n",
       "      <td>Yemen</td>\n",
       "      <td>Least Developed</td>\n",
       "      <td>37.94287</td>\n",
       "      <td>NaN</td>\n",
       "      <td>-282.09833</td>\n",
       "      <td>-0.010497</td>\n",
       "      <td>62.0</td>\n",
       "      <td>0.276</td>\n",
       "      <td>3.11</td>\n",
       "      <td>9.60</td>\n",
       "      <td>0.00040</td>\n",
       "      <td>NaN</td>\n",
       "      <td>0.000</td>\n",
       "      <td>NaN</td>\n",
       "    </tr>\n",
       "    <tr>\n",
       "      <th>167</th>\n",
       "      <td>Zambia</td>\n",
       "      <td>Least Developed</td>\n",
       "      <td>NaN</td>\n",
       "      <td>0.199646</td>\n",
       "      <td>547.96791</td>\n",
       "      <td>-0.055503</td>\n",
       "      <td>10.0</td>\n",
       "      <td>0.246</td>\n",
       "      <td>84.50</td>\n",
       "      <td>5.74</td>\n",
       "      <td>0.18908</td>\n",
       "      <td>0.002782</td>\n",
       "      <td>0.000</td>\n",
       "      <td>7.0</td>\n",
       "    </tr>\n",
       "    <tr>\n",
       "      <th>168</th>\n",
       "      <td>Zimbabwe</td>\n",
       "      <td>Developing Economies</td>\n",
       "      <td>21.18472</td>\n",
       "      <td>0.132036</td>\n",
       "      <td>280.00000</td>\n",
       "      <td>-0.006748</td>\n",
       "      <td>30.0</td>\n",
       "      <td>0.284</td>\n",
       "      <td>81.50</td>\n",
       "      <td>11.06</td>\n",
       "      <td>0.00000</td>\n",
       "      <td>NaN</td>\n",
       "      <td>0.000</td>\n",
       "      <td>36.0</td>\n",
       "    </tr>\n",
       "  </tbody>\n",
       "</table>\n",
       "<p>169 rows × 14 columns</p>\n",
       "</div>"
      ],
      "text/plain": [
       "                                country     level_of_development  \\\n",
       "0                           Afghanistan          Least Developed   \n",
       "1                               Albania  Economies in Transition   \n",
       "2                               Algeria     Developing Economies   \n",
       "3                                Angola          Least Developed   \n",
       "4                             Argentina     Developing Economies   \n",
       "..                                  ...                      ...   \n",
       "164  Venezuela (Bolivarian Republic of)     Developing Economies   \n",
       "165                            Viet Nam     Developing Economies   \n",
       "166                               Yemen          Least Developed   \n",
       "167                              Zambia          Least Developed   \n",
       "168                            Zimbabwe     Developing Economies   \n",
       "\n",
       "     greenhousegas_emissione_mtco2equivalent  \\\n",
       "0                                   43.37700   \n",
       "1                                    8.12570   \n",
       "2                                        NaN   \n",
       "3                                   61.61076   \n",
       "4                                  338.96335   \n",
       "..                                       ...   \n",
       "164                                      NaN   \n",
       "165                                278.44186   \n",
       "166                                 37.94287   \n",
       "167                                      NaN   \n",
       "168                                 21.18472   \n",
       "\n",
       "     total_government_revenue_proportion_of_gdp_perc  fdi_inflows_millionusd  \\\n",
       "0                                           0.452478                38.53333   \n",
       "1                                           0.264761              1287.97818   \n",
       "2                                           0.404242              1381.81182   \n",
       "3                                           0.202190             -4098.47875   \n",
       "4                                           0.173196              6663.06211   \n",
       "..                                               ...                     ...   \n",
       "164                                              NaN               934.00000   \n",
       "165                                         0.218163             16120.00000   \n",
       "166                                              NaN              -282.09833   \n",
       "167                                         0.199646               547.96791   \n",
       "168                                         0.132036               280.00000   \n",
       "\n",
       "     annual_growth_rate_perc  \\\n",
       "0                  -0.041682   \n",
       "1                  -0.032064   \n",
       "2                  -0.066306   \n",
       "3                  -0.070799   \n",
       "4                  -0.107327   \n",
       "..                       ...   \n",
       "164                -0.298033   \n",
       "165                 0.019792   \n",
       "166                -0.010497   \n",
       "167                -0.055503   \n",
       "168                -0.006748   \n",
       "\n",
       "     proportion_of_population_with_primary_reliance_on_clean_fuels_a  \\\n",
       "0                                                 33.0                 \n",
       "1                                                 81.0                 \n",
       "2                                                 95.0                 \n",
       "3                                                 50.0                 \n",
       "4                                                 95.0                 \n",
       "..                                                 ...                 \n",
       "164                                               95.0                 \n",
       "165                                               65.0                 \n",
       "166                                               62.0                 \n",
       "167                                               10.0                 \n",
       "168                                               30.0                 \n",
       "\n",
       "     mortality_rate_perc  \\\n",
       "0                  0.353   \n",
       "1                  0.114   \n",
       "2                  0.139   \n",
       "3                  0.222   \n",
       "4                  0.157   \n",
       "..                   ...   \n",
       "164                0.148   \n",
       "165                0.212   \n",
       "166                0.276   \n",
       "167                0.246   \n",
       "168                0.284   \n",
       "\n",
       "     renewable_energy_share_on_the_total_energy_consumption  \\\n",
       "0                                                18.51        \n",
       "1                                                40.20        \n",
       "2                                                 0.16        \n",
       "3                                                54.69        \n",
       "4                                                10.74        \n",
       "..                                                 ...        \n",
       "164                                              15.62        \n",
       "165                                              18.65        \n",
       "166                                               3.11        \n",
       "167                                              84.50        \n",
       "168                                              81.50        \n",
       "\n",
       "     co2emissions_from_fuel_combustion_in_millions_of_tonnes  \\\n",
       "0                                                  NaN         \n",
       "1                                                 4.05         \n",
       "2                                               142.37         \n",
       "3                                                18.77         \n",
       "4                                               162.22         \n",
       "..                                                 ...         \n",
       "164                                              90.09         \n",
       "165                                             282.28         \n",
       "166                                               9.60         \n",
       "167                                               5.74         \n",
       "168                                              11.06         \n",
       "\n",
       "     fossilfuel_subsidies_consumption_and_production_billionusd  \\\n",
       "0                                              0.06024            \n",
       "1                                              0.00000            \n",
       "2                                              8.39641            \n",
       "3                                              1.52039            \n",
       "4                                              4.31072            \n",
       "..                                                 ...            \n",
       "164                                            4.75949            \n",
       "165                                            0.27111            \n",
       "166                                            0.00040            \n",
       "167                                            0.18908            \n",
       "168                                            0.00000            \n",
       "\n",
       "     randd_expenditure_proportionofgdp_perc  \\\n",
       "0                                       NaN   \n",
       "1                                  0.001541   \n",
       "2                                  0.005430   \n",
       "3                                  0.000323   \n",
       "4                                  0.004936   \n",
       "..                                      ...   \n",
       "164                                0.003371   \n",
       "165                                0.005267   \n",
       "166                                     NaN   \n",
       "167                                0.002782   \n",
       "168                                     NaN   \n",
       "\n",
       "     education_for_sustainable_development  land_degraded_over_total_land_area  \n",
       "0                                    0.000                                 8.0  \n",
       "1                                    0.719                                 8.0  \n",
       "2                                    0.625                                 1.0  \n",
       "3                                    0.000                                20.0  \n",
       "4                                    0.000                                39.0  \n",
       "..                                     ...                                 ...  \n",
       "164                                  0.000                                15.0  \n",
       "165                                  0.000                                31.0  \n",
       "166                                  0.000                                 NaN  \n",
       "167                                  0.000                                 7.0  \n",
       "168                                  0.000                                36.0  \n",
       "\n",
       "[169 rows x 14 columns]"
      ]
     },
     "execution_count": 435,
     "metadata": {},
     "output_type": "execute_result"
    }
   ],
   "source": [
    "latest_values"
   ]
  },
  {
   "cell_type": "code",
   "execution_count": 436,
   "metadata": {},
   "outputs": [
    {
     "data": {
      "image/png": "[encoded data removed]",
      "text/plain": [
       "<Figure size 1000x600 with 1 Axes>"
      ]
     },
     "metadata": {},
     "output_type": "display_data"
    }
   ],
   "source": [
    "bar_plot_feature(latest_values,'fossilfuel_subsidies_consumption_and_production_billionusd', 'Billon USD')"
   ]
  },
  {
   "cell_type": "code",
   "execution_count": 437,
   "metadata": {},
   "outputs": [
    {
     "data": {
      "image/png": "[encoded data removed]",
      "text/plain": [
       "<Figure size 1000x600 with 1 Axes>"
      ]
     },
     "metadata": {},
     "output_type": "display_data"
    }
   ],
   "source": [
    "bar_plot_feature(latest_values,'mortality_rate_perc', 'Percentage')"
   ]
  },
  {
   "cell_type": "code",
   "execution_count": 438,
   "metadata": {},
   "outputs": [
    {
     "data": {
      "image/png": "[encoded data removed]",
      "text/plain": [
       "<Figure size 1000x600 with 1 Axes>"
      ]
     },
     "metadata": {},
     "output_type": "display_data"
    }
   ],
   "source": [
    "bar_plot_feature(latest_values,'land_degraded_over_total_land_area', 'Percentage')"
   ]
  },
  {
   "cell_type": "code",
   "execution_count": 439,
   "metadata": {},
   "outputs": [
    {
     "data": {
      "image/png": "[encoded data removed]",
      "text/plain": [
       "<Figure size 1000x600 with 1 Axes>"
      ]
     },
     "metadata": {},
     "output_type": "display_data"
    }
   ],
   "source": [
    "bar_plot_feature(latest_values,'greenhousegas_emissione_mtco2equivalent', 'mtco2')"
   ]
  },
  {
   "cell_type": "code",
   "execution_count": 440,
   "metadata": {},
   "outputs": [
    {
     "data": {
      "image/png": "[encoded data removed]",
      "text/plain": [
       "<Figure size 1000x600 with 1 Axes>"
      ]
     },
     "metadata": {},
     "output_type": "display_data"
    }
   ],
   "source": [
    "bar_plot_feature(latest_values,'co2emissions_from_fuel_combustion_in_millions_of_tonnes', 'millions of tonnes')"
   ]
  },
  {
   "cell_type": "code",
   "execution_count": 441,
   "metadata": {},
   "outputs": [
    {
     "data": {
      "image/png": "[encoded data removed]",
      "text/plain": [
       "<Figure size 1000x600 with 1 Axes>"
      ]
     },
     "metadata": {},
     "output_type": "display_data"
    }
   ],
   "source": [
    "bar_plot_feature(latest_values,'total_government_revenue_proportion_of_gdp_perc', 'Percentage')"
   ]
  },
  {
   "cell_type": "code",
   "execution_count": 442,
   "metadata": {},
   "outputs": [
    {
     "data": {
      "image/png": "[encoded data removed]",
      "text/plain": [
       "<Figure size 1000x600 with 1 Axes>"
      ]
     },
     "metadata": {},
     "output_type": "display_data"
    }
   ],
   "source": [
    "bar_plot_feature(latest_values,'renewable_energy_share_on_the_total_energy_consumption', 'Percentage')"
   ]
  },
  {
   "attachments": {},
   "cell_type": "markdown",
   "metadata": {},
   "source": [
    "# -identificado los valores atípicos"
   ]
  },
  {
   "cell_type": "code",
   "execution_count": 443,
   "metadata": {},
   "outputs": [],
   "source": [
    "# Selectors\n",
    "cat_selector = make_column_selector(dtype_include='object')\n",
    "num_selector = make_column_selector(dtype_include='number')"
   ]
  },
  {
   "cell_type": "code",
   "execution_count": 444,
   "metadata": {},
   "outputs": [
    {
     "name": "stdout",
     "output_type": "stream",
     "text": [
      "                                                    Features: # Outliers  Outliers %  Max Value\n",
      "                     greenhousegas_emissione_mtco2equivalent:         84       0.025              12300.2\n",
      "             total_government_revenue_proportion_of_gdp_perc:         23       0.007            3.6563463\n",
      "                                      fdi_inflows_millionusd:        513       0.152             467625.0\n",
      "                                     annual_growth_rate_perc:        217       0.064   0.8529264999999999\n",
      "                                         mortality_rate_perc:          7       0.002                0.545\n",
      "     co2emissions_from_fuel_combustion_in_millions_of_tonnes:        380       0.113               9876.5\n",
      "  fossilfuel_subsidies_consumption_and_production_billionusd:        147       0.044             81.62778\n",
      "                      randd_expenditure_proportionofgdp_perc:         79       0.023            0.0494079\n",
      "       number_of_companies_publishing_sustainability_reports:         26       0.008               2192.0\n",
      "        enhance_policy_coherence_for_sustainable_development:          1       0.000                 42.5\n",
      "                          land_degraded_over_total_land_area:          4       0.001                 97.0\n"
     ]
    }
   ],
   "source": [
    "header = ['Features', '# Outliers', 'Outliers %', 'Max Value']\n",
    "print(f'{header[0]:>60s}: {header[1]:>5}  {header[2]:>5} {header[3]:>10}')\n",
    "for column in df[num_selector].columns:\n",
    "    outliers = find_outliers_IQR(df[column])\n",
    "    if len(outliers) > 0:\n",
    "        print(f'{column:>60s}: {len(outliers):>10}  {len(outliers)/df.shape[0]:>10.3f} {outliers.max():>20}')"
   ]
  },
  {
   "cell_type": "code",
   "execution_count": 445,
   "metadata": {},
   "outputs": [
    {
     "data": {
      "application/vnd.plotly.v1+json": {
       "config": {
        "plotlyServerURL": "https://plot.ly"
       },
       "data": [
        {
         "coloraxis": "coloraxis",
         "hovertemplate": "x: %{x}<br>y: %{y}<br>color: %{z}<extra></extra>",
         "name": "0",
         "texttemplate": "%{z}",
         "type": "heatmap",
         "x": [
          "greenhousegas_emissione_mtco2equivalent",
          "total_government_revenue_proportion_of_gdp_perc",
          "fdi_inflows_millionusd",
          "annual_growth_rate_perc",
          "proportion_of_population_with_primary_reliance_on_clean_fuels_a",
          "mortality_rate_perc",
          "renewable_energy_share_on_the_total_energy_consumption",
          "co2emissions_from_fuel_combustion_in_millions_of_tonnes",
          "fossilfuel_subsidies_consumption_and_production_billionusd",
          "randd_expenditure_proportionofgdp_perc",
          "education_for_sustainable_development",
          "land_degraded_over_total_land_area"
         ],
         "xaxis": "x",
         "y": [
          "greenhousegas_emissione_mtco2equivalent",
          "total_government_revenue_proportion_of_gdp_perc",
          "fdi_inflows_millionusd",
          "annual_growth_rate_perc",
          "proportion_of_population_with_primary_reliance_on_clean_fuels_a",
          "mortality_rate_perc",
          "renewable_energy_share_on_the_total_energy_consumption",
          "co2emissions_from_fuel_combustion_in_millions_of_tonnes",
          "fossilfuel_subsidies_consumption_and_production_billionusd",
          "randd_expenditure_proportionofgdp_perc",
          "education_for_sustainable_development",
          "land_degraded_over_total_land_area"
         ],
         "yaxis": "y",
         "z": [
          [
           1,
           -0.04406002371904787,
           0.7036565587786042,
           0.07195022238712084,
           0.08528784538339117,
           -0.07232892485056876,
           -0.12448313810470932,
           0.996415629355242,
           0.7116253174587241,
           0.2246948429669322,
           -0.025676423107637944,
           0.054314428148595266
          ],
          [
           -0.04406002371904787,
           1,
           0.02994355300072573,
           0.050268582081139594,
           0.35019020191725686,
           -0.08625020992123536,
           -0.3364247426675132,
           -0.010279391734144223,
           0.0539993317545979,
           0.5547982021802823,
           0.1588036422302008,
           -0.28372208012987055
          ],
          [
           0.7036565587786042,
           0.02994355300072573,
           1,
           0.037650322121708345,
           0.21371557191838927,
           -0.21616101588951156,
           -0.2018224652096436,
           0.6674555502329641,
           0.4536179319004998,
           0.30306920107847546,
           0.0774402973050861,
           0.0350705842175742
          ],
          [
           0.07195022238712084,
           0.050268582081139594,
           0.037650322121708345,
           1,
           -0.1851495257528848,
           0.14354686145178208,
           0.13826352870882352,
           0.07501913202524414,
           -0.005820835572982917,
           0.16394055327425713,
           -0.010241482823993883,
           0.008178642555197289
          ],
          [
           0.08528784538339117,
           0.35019020191725686,
           0.21371557191838927,
           -0.1851495257528848,
           1,
           -0.5539479005694321,
           -0.7126551006747105,
           0.08938144618857505,
           0.2953490483335315,
           0.4008641449292161,
           0.3353711693828348,
           -0.10126526524126572
          ],
          [
           -0.07232892485056876,
           -0.08625020992123536,
           -0.21616101588951156,
           0.14354686145178208,
           -0.5539479005694321,
           1,
           0.2899090303778185,
           -0.06222384611718222,
           -0.1623496426545137,
           -0.5541234367317898,
           -0.27650256618365904,
           0.13151868441885065
          ],
          [
           -0.12448313810470932,
           -0.3364247426675132,
           -0.2018224652096436,
           0.13826352870882352,
           -0.7126551006747105,
           0.2899090303778185,
           1,
           -0.13240841138110845,
           -0.3252675098882596,
           -0.22250235382316916,
           -0.18205872317293162,
           0.04785054387412988
          ],
          [
           0.996415629355242,
           -0.010279391734144223,
           0.6674555502329641,
           0.07501913202524414,
           0.08938144618857505,
           -0.06222384611718222,
           -0.13240841138110845,
           1,
           0.5969079714422161,
           0.23140828263846264,
           -0.013788726515170812,
           0.05184515349810748
          ],
          [
           0.7116253174587241,
           0.0539993317545979,
           0.4536179319004998,
           -0.005820835572982917,
           0.2953490483335315,
           -0.1623496426545137,
           -0.3252675098882596,
           0.5969079714422161,
           1,
           0.2096165812996917,
           0.08009839018113747,
           0.04025937460345522
          ],
          [
           0.2246948429669322,
           0.5547982021802823,
           0.30306920107847546,
           0.16394055327425713,
           0.4008641449292161,
           -0.5541234367317898,
           -0.22250235382316916,
           0.23140828263846264,
           0.2096165812996917,
           1,
           0.19426923526121156,
           -0.2445860092839043
          ],
          [
           -0.025676423107637944,
           0.1588036422302008,
           0.0774402973050861,
           -0.010241482823993883,
           0.3353711693828348,
           -0.27650256618365904,
           -0.18205872317293162,
           -0.013788726515170812,
           0.08009839018113747,
           0.19426923526121156,
           1,
           -0.14946891538591578
          ],
          [
           0.054314428148595266,
           -0.28372208012987055,
           0.0350705842175742,
           0.008178642555197289,
           -0.10126526524126572,
           0.13151868441885065,
           0.04785054387412988,
           0.05184515349810748,
           0.04025937460345522,
           -0.2445860092839043,
           -0.14946891538591578,
           1
          ]
         ]
        }
       ],
       "layout": {
        "coloraxis": {
         "colorscale": [
          [
           0,
           "#0d0887"
          ],
          [
           0.1111111111111111,
           "#46039f"
          ],
          [
           0.2222222222222222,
           "#7201a8"
          ],
          [
           0.3333333333333333,
           "#9c179e"
          ],
          [
           0.4444444444444444,
           "#bd3786"
          ],
          [
           0.5555555555555556,
           "#d8576b"
          ],
          [
           0.6666666666666666,
           "#ed7953"
          ],
          [
           0.7777777777777778,
           "#fb9f3a"
          ],
          [
           0.8888888888888888,
           "#fdca26"
          ],
          [
           1,
           "#f0f921"
          ]
         ]
        },
        "margin": {
         "t": 60
        },
        "template": {
         "data": {
          "bar": [
           {
            "error_x": {
             "color": "#2a3f5f"
            },
            "error_y": {
             "color": "#2a3f5f"
            },
            "marker": {
             "line": {
              "color": "#E5ECF6",
              "width": 0.5
             },
             "pattern": {
              "fillmode": "overlay",
              "size": 10,
              "solidity": 0.2
             }
            },
            "type": "bar"
           }
          ],
          "barpolar": [
           {
            "marker": {
             "line": {
              "color": "#E5ECF6",
              "width": 0.5
             },
             "pattern": {
              "fillmode": "overlay",
              "size": 10,
              "solidity": 0.2
             }
            },
            "type": "barpolar"
           }
          ],
          "carpet": [
           {
            "aaxis": {
             "endlinecolor": "#2a3f5f",
             "gridcolor": "white",
             "linecolor": "white",
             "minorgridcolor": "white",
             "startlinecolor": "#2a3f5f"
            },
            "baxis": {
             "endlinecolor": "#2a3f5f",
             "gridcolor": "white",
             "linecolor": "white",
             "minorgridcolor": "white",
             "startlinecolor": "#2a3f5f"
            },
            "type": "carpet"
           }
          ],
          "choropleth": [
           {
            "colorbar": {
             "outlinewidth": 0,
             "ticks": ""
            },
            "type": "choropleth"
           }
          ],
          "contour": [
           {
            "colorbar": {
             "outlinewidth": 0,
             "ticks": ""
            },
            "colorscale": [
             [
              0,
              "#0d0887"
             ],
             [
              0.1111111111111111,
              "#46039f"
             ],
             [
              0.2222222222222222,
              "#7201a8"
             ],
             [
              0.3333333333333333,
              "#9c179e"
             ],
             [
              0.4444444444444444,
              "#bd3786"
             ],
             [
              0.5555555555555556,
              "#d8576b"
             ],
             [
              0.6666666666666666,
              "#ed7953"
             ],
             [
              0.7777777777777778,
              "#fb9f3a"
             ],
             [
              0.8888888888888888,
              "#fdca26"
             ],
             [
              1,
              "#f0f921"
             ]
            ],
            "type": "contour"
           }
          ],
          "contourcarpet": [
           {
            "colorbar": {
             "outlinewidth": 0,
             "ticks": ""
            },
            "type": "contourcarpet"
           }
          ],
          "heatmap": [
           {
            "colorbar": {
             "outlinewidth": 0,
             "ticks": ""
            },
            "colorscale": [
             [
              0,
              "#0d0887"
             ],
             [
              0.1111111111111111,
              "#46039f"
             ],
             [
              0.2222222222222222,
              "#7201a8"
             ],
             [
              0.3333333333333333,
              "#9c179e"
             ],
             [
              0.4444444444444444,
              "#bd3786"
             ],
             [
              0.5555555555555556,
              "#d8576b"
             ],
             [
              0.6666666666666666,
              "#ed7953"
             ],
             [
              0.7777777777777778,
              "#fb9f3a"
             ],
             [
              0.8888888888888888,
              "#fdca26"
             ],
             [
              1,
              "#f0f921"
             ]
            ],
            "type": "heatmap"
           }
          ],
          "heatmapgl": [
           {
            "colorbar": {
             "outlinewidth": 0,
             "ticks": ""
            },
            "colorscale": [
             [
              0,
              "#0d0887"
             ],
             [
              0.1111111111111111,
              "#46039f"
             ],
             [
              0.2222222222222222,
              "#7201a8"
             ],
             [
              0.3333333333333333,
              "#9c179e"
             ],
             [
              0.4444444444444444,
              "#bd3786"
             ],
             [
              0.5555555555555556,
              "#d8576b"
             ],
             [
              0.6666666666666666,
              "#ed7953"
             ],
             [
              0.7777777777777778,
              "#fb9f3a"
             ],
             [
              0.8888888888888888,
              "#fdca26"
             ],
             [
              1,
              "#f0f921"
             ]
            ],
            "type": "heatmapgl"
           }
          ],
          "histogram": [
           {
            "marker": {
             "pattern": {
              "fillmode": "overlay",
              "size": 10,
              "solidity": 0.2
             }
            },
            "type": "histogram"
           }
          ],
          "histogram2d": [
           {
            "colorbar": {
             "outlinewidth": 0,
             "ticks": ""
            },
            "colorscale": [
             [
              0,
              "#0d0887"
             ],
             [
              0.1111111111111111,
              "#46039f"
             ],
             [
              0.2222222222222222,
              "#7201a8"
             ],
             [
              0.3333333333333333,
              "#9c179e"
             ],
             [
              0.4444444444444444,
              "#bd3786"
             ],
             [
              0.5555555555555556,
              "#d8576b"
             ],
             [
              0.6666666666666666,
              "#ed7953"
             ],
             [
              0.7777777777777778,
              "#fb9f3a"
             ],
             [
              0.8888888888888888,
              "#fdca26"
             ],
             [
              1,
              "#f0f921"
             ]
            ],
            "type": "histogram2d"
           }
          ],
          "histogram2dcontour": [
           {
            "colorbar": {
             "outlinewidth": 0,
             "ticks": ""
            },
            "colorscale": [
             [
              0,
              "#0d0887"
             ],
             [
              0.1111111111111111,
              "#46039f"
             ],
             [
              0.2222222222222222,
              "#7201a8"
             ],
             [
              0.3333333333333333,
              "#9c179e"
             ],
             [
              0.4444444444444444,
              "#bd3786"
             ],
             [
              0.5555555555555556,
              "#d8576b"
             ],
             [
              0.6666666666666666,
              "#ed7953"
             ],
             [
              0.7777777777777778,
              "#fb9f3a"
             ],
             [
              0.8888888888888888,
              "#fdca26"
             ],
             [
              1,
              "#f0f921"
             ]
            ],
            "type": "histogram2dcontour"
           }
          ],
          "mesh3d": [
           {
            "colorbar": {
             "outlinewidth": 0,
             "ticks": ""
            },
            "type": "mesh3d"
           }
          ],
          "parcoords": [
           {
            "line": {
             "colorbar": {
              "outlinewidth": 0,
              "ticks": ""
             }
            },
            "type": "parcoords"
           }
          ],
          "pie": [
           {
            "automargin": true,
            "type": "pie"
           }
          ],
          "scatter": [
           {
            "fillpattern": {
             "fillmode": "overlay",
             "size": 10,
             "solidity": 0.2
            },
            "type": "scatter"
           }
          ],
          "scatter3d": [
           {
            "line": {
             "colorbar": {
              "outlinewidth": 0,
              "ticks": ""
             }
            },
            "marker": {
             "colorbar": {
              "outlinewidth": 0,
              "ticks": ""
             }
            },
            "type": "scatter3d"
           }
          ],
          "scattercarpet": [
           {
            "marker": {
             "colorbar": {
              "outlinewidth": 0,
              "ticks": ""
             }
            },
            "type": "scattercarpet"
           }
          ],
          "scattergeo": [
           {
            "marker": {
             "colorbar": {
              "outlinewidth": 0,
              "ticks": ""
             }
            },
            "type": "scattergeo"
           }
          ],
          "scattergl": [
           {
            "marker": {
             "colorbar": {
              "outlinewidth": 0,
              "ticks": ""
             }
            },
            "type": "scattergl"
           }
          ],
          "scattermapbox": [
           {
            "marker": {
             "colorbar": {
              "outlinewidth": 0,
              "ticks": ""
             }
            },
            "type": "scattermapbox"
           }
          ],
          "scatterpolar": [
           {
            "marker": {
             "colorbar": {
              "outlinewidth": 0,
              "ticks": ""
             }
            },
            "type": "scatterpolar"
           }
          ],
          "scatterpolargl": [
           {
            "marker": {
             "colorbar": {
              "outlinewidth": 0,
              "ticks": ""
             }
            },
            "type": "scatterpolargl"
           }
          ],
          "scatterternary": [
           {
            "marker": {
             "colorbar": {
              "outlinewidth": 0,
              "ticks": ""
             }
            },
            "type": "scatterternary"
           }
          ],
          "surface": [
           {
            "colorbar": {
             "outlinewidth": 0,
             "ticks": ""
            },
            "colorscale": [
             [
              0,
              "#0d0887"
             ],
             [
              0.1111111111111111,
              "#46039f"
             ],
             [
              0.2222222222222222,
              "#7201a8"
             ],
             [
              0.3333333333333333,
              "#9c179e"
             ],
             [
              0.4444444444444444,
              "#bd3786"
             ],
             [
              0.5555555555555556,
              "#d8576b"
             ],
             [
              0.6666666666666666,
              "#ed7953"
             ],
             [
              0.7777777777777778,
              "#fb9f3a"
             ],
             [
              0.8888888888888888,
              "#fdca26"
             ],
             [
              1,
              "#f0f921"
             ]
            ],
            "type": "surface"
           }
          ],
          "table": [
           {
            "cells": {
             "fill": {
              "color": "#EBF0F8"
             },
             "line": {
              "color": "white"
             }
            },
            "header": {
             "fill": {
              "color": "#C8D4E3"
             },
             "line": {
              "color": "white"
             }
            },
            "type": "table"
           }
          ]
         },
         "layout": {
          "annotationdefaults": {
           "arrowcolor": "#2a3f5f",
           "arrowhead": 0,
           "arrowwidth": 1
          },
          "autotypenumbers": "strict",
          "coloraxis": {
           "colorbar": {
            "outlinewidth": 0,
            "ticks": ""
           }
          },
          "colorscale": {
           "diverging": [
            [
             0,
             "#8e0152"
            ],
            [
             0.1,
             "#c51b7d"
            ],
            [
             0.2,
             "#de77ae"
            ],
            [
             0.3,
             "#f1b6da"
            ],
            [
             0.4,
             "#fde0ef"
            ],
            [
             0.5,
             "#f7f7f7"
            ],
            [
             0.6,
             "#e6f5d0"
            ],
            [
             0.7,
             "#b8e186"
            ],
            [
             0.8,
             "#7fbc41"
            ],
            [
             0.9,
             "#4d9221"
            ],
            [
             1,
             "#276419"
            ]
           ],
           "sequential": [
            [
             0,
             "#0d0887"
            ],
            [
             0.1111111111111111,
             "#46039f"
            ],
            [
             0.2222222222222222,
             "#7201a8"
            ],
            [
             0.3333333333333333,
             "#9c179e"
            ],
            [
             0.4444444444444444,
             "#bd3786"
            ],
            [
             0.5555555555555556,
             "#d8576b"
            ],
            [
             0.6666666666666666,
             "#ed7953"
            ],
            [
             0.7777777777777778,
             "#fb9f3a"
            ],
            [
             0.8888888888888888,
             "#fdca26"
            ],
            [
             1,
             "#f0f921"
            ]
           ],
           "sequentialminus": [
            [
             0,
             "#0d0887"
            ],
            [
             0.1111111111111111,
             "#46039f"
            ],
            [
             0.2222222222222222,
             "#7201a8"
            ],
            [
             0.3333333333333333,
             "#9c179e"
            ],
            [
             0.4444444444444444,
             "#bd3786"
            ],
            [
             0.5555555555555556,
             "#d8576b"
            ],
            [
             0.6666666666666666,
             "#ed7953"
            ],
            [
             0.7777777777777778,
             "#fb9f3a"
            ],
            [
             0.8888888888888888,
             "#fdca26"
            ],
            [
             1,
             "#f0f921"
            ]
           ]
          },
          "colorway": [
           "#636efa",
           "#EF553B",
           "#00cc96",
           "#ab63fa",
           "#FFA15A",
           "#19d3f3",
           "#FF6692",
           "#B6E880",
           "#FF97FF",
           "#FECB52"
          ],
          "font": {
           "color": "#2a3f5f"
          },
          "geo": {
           "bgcolor": "white",
           "lakecolor": "white",
           "landcolor": "#E5ECF6",
           "showlakes": true,
           "showland": true,
           "subunitcolor": "white"
          },
          "hoverlabel": {
           "align": "left"
          },
          "hovermode": "closest",
          "mapbox": {
           "style": "light"
          },
          "paper_bgcolor": "white",
          "plot_bgcolor": "#E5ECF6",
          "polar": {
           "angularaxis": {
            "gridcolor": "white",
            "linecolor": "white",
            "ticks": ""
           },
           "bgcolor": "#E5ECF6",
           "radialaxis": {
            "gridcolor": "white",
            "linecolor": "white",
            "ticks": ""
           }
          },
          "scene": {
           "xaxis": {
            "backgroundcolor": "#E5ECF6",
            "gridcolor": "white",
            "gridwidth": 2,
            "linecolor": "white",
            "showbackground": true,
            "ticks": "",
            "zerolinecolor": "white"
           },
           "yaxis": {
            "backgroundcolor": "#E5ECF6",
            "gridcolor": "white",
            "gridwidth": 2,
            "linecolor": "white",
            "showbackground": true,
            "ticks": "",
            "zerolinecolor": "white"
           },
           "zaxis": {
            "backgroundcolor": "#E5ECF6",
            "gridcolor": "white",
            "gridwidth": 2,
            "linecolor": "white",
            "showbackground": true,
            "ticks": "",
            "zerolinecolor": "white"
           }
          },
          "shapedefaults": {
           "line": {
            "color": "#2a3f5f"
           }
          },
          "ternary": {
           "aaxis": {
            "gridcolor": "white",
            "linecolor": "white",
            "ticks": ""
           },
           "baxis": {
            "gridcolor": "white",
            "linecolor": "white",
            "ticks": ""
           },
           "bgcolor": "#E5ECF6",
           "caxis": {
            "gridcolor": "white",
            "linecolor": "white",
            "ticks": ""
           }
          },
          "title": {
           "x": 0.05
          },
          "xaxis": {
           "automargin": true,
           "gridcolor": "white",
           "linecolor": "white",
           "ticks": "",
           "title": {
            "standoff": 15
           },
           "zerolinecolor": "white",
           "zerolinewidth": 2
          },
          "yaxis": {
           "automargin": true,
           "gridcolor": "white",
           "linecolor": "white",
           "ticks": "",
           "title": {
            "standoff": 15
           },
           "zerolinecolor": "white",
           "zerolinewidth": 2
          }
         }
        },
        "xaxis": {
         "anchor": "y",
         "domain": [
          0,
          1
         ]
        },
        "yaxis": {
         "anchor": "x",
         "autorange": "reversed",
         "domain": [
          0,
          1
         ]
        }
       }
      }
     },
     "metadata": {},
     "output_type": "display_data"
    }
   ],
   "source": [
    "import plotly.express as px\n",
    "corr = latest_values[num_selector].corr()\n",
    "fig = px.imshow(corr, text_auto=True, aspect='auto')\n",
    "fig.show()"
   ]
  },
  {
   "cell_type": "code",
   "execution_count": 446,
   "metadata": {},
   "outputs": [
    {
     "data": {
      "text/html": [
       "<div>\n",
       "<style scoped>\n",
       "    .dataframe tbody tr th:only-of-type {\n",
       "        vertical-align: middle;\n",
       "    }\n",
       "\n",
       "    .dataframe tbody tr th {\n",
       "        vertical-align: top;\n",
       "    }\n",
       "\n",
       "    .dataframe thead th {\n",
       "        text-align: right;\n",
       "    }\n",
       "</style>\n",
       "<table border=\"1\" class=\"dataframe\">\n",
       "  <thead>\n",
       "    <tr style=\"text-align: right;\">\n",
       "      <th></th>\n",
       "      <th>country</th>\n",
       "      <th>level_of_development</th>\n",
       "      <th>greenhousegas_emissione_mtco2equivalent</th>\n",
       "      <th>total_government_revenue_proportion_of_gdp_perc</th>\n",
       "      <th>fdi_inflows_millionusd</th>\n",
       "      <th>annual_growth_rate_perc</th>\n",
       "      <th>proportion_of_population_with_primary_reliance_on_clean_fuels_a</th>\n",
       "      <th>mortality_rate_perc</th>\n",
       "      <th>renewable_energy_share_on_the_total_energy_consumption</th>\n",
       "      <th>co2emissions_from_fuel_combustion_in_millions_of_tonnes</th>\n",
       "      <th>fossilfuel_subsidies_consumption_and_production_billionusd</th>\n",
       "      <th>randd_expenditure_proportionofgdp_perc</th>\n",
       "      <th>education_for_sustainable_development</th>\n",
       "      <th>land_degraded_over_total_land_area</th>\n",
       "    </tr>\n",
       "  </thead>\n",
       "  <tbody>\n",
       "    <tr>\n",
       "      <th>0</th>\n",
       "      <td>Afghanistan</td>\n",
       "      <td>Least Developed</td>\n",
       "      <td>43.37700</td>\n",
       "      <td>0.452478</td>\n",
       "      <td>38.53333</td>\n",
       "      <td>-0.041682</td>\n",
       "      <td>33.0</td>\n",
       "      <td>0.353</td>\n",
       "      <td>18.51</td>\n",
       "      <td>NaN</td>\n",
       "      <td>0.06024</td>\n",
       "      <td>NaN</td>\n",
       "      <td>0.000</td>\n",
       "      <td>8.0</td>\n",
       "    </tr>\n",
       "    <tr>\n",
       "      <th>1</th>\n",
       "      <td>Albania</td>\n",
       "      <td>Economies in Transition</td>\n",
       "      <td>8.12570</td>\n",
       "      <td>0.264761</td>\n",
       "      <td>1287.97818</td>\n",
       "      <td>-0.032064</td>\n",
       "      <td>81.0</td>\n",
       "      <td>0.114</td>\n",
       "      <td>40.20</td>\n",
       "      <td>4.05</td>\n",
       "      <td>0.00000</td>\n",
       "      <td>0.001541</td>\n",
       "      <td>0.719</td>\n",
       "      <td>8.0</td>\n",
       "    </tr>\n",
       "    <tr>\n",
       "      <th>2</th>\n",
       "      <td>Algeria</td>\n",
       "      <td>Developing Economies</td>\n",
       "      <td>NaN</td>\n",
       "      <td>0.404242</td>\n",
       "      <td>1381.81182</td>\n",
       "      <td>-0.066306</td>\n",
       "      <td>95.0</td>\n",
       "      <td>0.139</td>\n",
       "      <td>0.16</td>\n",
       "      <td>142.37</td>\n",
       "      <td>8.39641</td>\n",
       "      <td>0.005430</td>\n",
       "      <td>0.625</td>\n",
       "      <td>1.0</td>\n",
       "    </tr>\n",
       "    <tr>\n",
       "      <th>3</th>\n",
       "      <td>Angola</td>\n",
       "      <td>Least Developed</td>\n",
       "      <td>61.61076</td>\n",
       "      <td>0.202190</td>\n",
       "      <td>-4098.47875</td>\n",
       "      <td>-0.070799</td>\n",
       "      <td>50.0</td>\n",
       "      <td>0.222</td>\n",
       "      <td>54.69</td>\n",
       "      <td>18.77</td>\n",
       "      <td>1.52039</td>\n",
       "      <td>0.000323</td>\n",
       "      <td>0.000</td>\n",
       "      <td>20.0</td>\n",
       "    </tr>\n",
       "    <tr>\n",
       "      <th>4</th>\n",
       "      <td>Argentina</td>\n",
       "      <td>Developing Economies</td>\n",
       "      <td>338.96335</td>\n",
       "      <td>0.173196</td>\n",
       "      <td>6663.06211</td>\n",
       "      <td>-0.107327</td>\n",
       "      <td>95.0</td>\n",
       "      <td>0.157</td>\n",
       "      <td>10.74</td>\n",
       "      <td>162.22</td>\n",
       "      <td>4.31072</td>\n",
       "      <td>0.004936</td>\n",
       "      <td>0.000</td>\n",
       "      <td>39.0</td>\n",
       "    </tr>\n",
       "    <tr>\n",
       "      <th>...</th>\n",
       "      <td>...</td>\n",
       "      <td>...</td>\n",
       "      <td>...</td>\n",
       "      <td>...</td>\n",
       "      <td>...</td>\n",
       "      <td>...</td>\n",
       "      <td>...</td>\n",
       "      <td>...</td>\n",
       "      <td>...</td>\n",
       "      <td>...</td>\n",
       "      <td>...</td>\n",
       "      <td>...</td>\n",
       "      <td>...</td>\n",
       "      <td>...</td>\n",
       "    </tr>\n",
       "    <tr>\n",
       "      <th>164</th>\n",
       "      <td>Venezuela (Bolivarian Republic of)</td>\n",
       "      <td>Developing Economies</td>\n",
       "      <td>NaN</td>\n",
       "      <td>NaN</td>\n",
       "      <td>934.00000</td>\n",
       "      <td>-0.298033</td>\n",
       "      <td>95.0</td>\n",
       "      <td>0.148</td>\n",
       "      <td>15.62</td>\n",
       "      <td>90.09</td>\n",
       "      <td>4.75949</td>\n",
       "      <td>0.003371</td>\n",
       "      <td>0.000</td>\n",
       "      <td>15.0</td>\n",
       "    </tr>\n",
       "    <tr>\n",
       "      <th>165</th>\n",
       "      <td>Viet Nam</td>\n",
       "      <td>Developing Economies</td>\n",
       "      <td>278.44186</td>\n",
       "      <td>0.218163</td>\n",
       "      <td>16120.00000</td>\n",
       "      <td>0.019792</td>\n",
       "      <td>65.0</td>\n",
       "      <td>0.212</td>\n",
       "      <td>18.65</td>\n",
       "      <td>282.28</td>\n",
       "      <td>0.27111</td>\n",
       "      <td>0.005267</td>\n",
       "      <td>0.000</td>\n",
       "      <td>31.0</td>\n",
       "    </tr>\n",
       "    <tr>\n",
       "      <th>166</th>\n",
       "      <td>Yemen</td>\n",
       "      <td>Least Developed</td>\n",
       "      <td>37.94287</td>\n",
       "      <td>NaN</td>\n",
       "      <td>-282.09833</td>\n",
       "      <td>-0.010497</td>\n",
       "      <td>62.0</td>\n",
       "      <td>0.276</td>\n",
       "      <td>3.11</td>\n",
       "      <td>9.60</td>\n",
       "      <td>0.00040</td>\n",
       "      <td>NaN</td>\n",
       "      <td>0.000</td>\n",
       "      <td>NaN</td>\n",
       "    </tr>\n",
       "    <tr>\n",
       "      <th>167</th>\n",
       "      <td>Zambia</td>\n",
       "      <td>Least Developed</td>\n",
       "      <td>NaN</td>\n",
       "      <td>0.199646</td>\n",
       "      <td>547.96791</td>\n",
       "      <td>-0.055503</td>\n",
       "      <td>10.0</td>\n",
       "      <td>0.246</td>\n",
       "      <td>84.50</td>\n",
       "      <td>5.74</td>\n",
       "      <td>0.18908</td>\n",
       "      <td>0.002782</td>\n",
       "      <td>0.000</td>\n",
       "      <td>7.0</td>\n",
       "    </tr>\n",
       "    <tr>\n",
       "      <th>168</th>\n",
       "      <td>Zimbabwe</td>\n",
       "      <td>Developing Economies</td>\n",
       "      <td>21.18472</td>\n",
       "      <td>0.132036</td>\n",
       "      <td>280.00000</td>\n",
       "      <td>-0.006748</td>\n",
       "      <td>30.0</td>\n",
       "      <td>0.284</td>\n",
       "      <td>81.50</td>\n",
       "      <td>11.06</td>\n",
       "      <td>0.00000</td>\n",
       "      <td>NaN</td>\n",
       "      <td>0.000</td>\n",
       "      <td>36.0</td>\n",
       "    </tr>\n",
       "  </tbody>\n",
       "</table>\n",
       "<p>169 rows × 14 columns</p>\n",
       "</div>"
      ],
      "text/plain": [
       "                                country     level_of_development  \\\n",
       "0                           Afghanistan          Least Developed   \n",
       "1                               Albania  Economies in Transition   \n",
       "2                               Algeria     Developing Economies   \n",
       "3                                Angola          Least Developed   \n",
       "4                             Argentina     Developing Economies   \n",
       "..                                  ...                      ...   \n",
       "164  Venezuela (Bolivarian Republic of)     Developing Economies   \n",
       "165                            Viet Nam     Developing Economies   \n",
       "166                               Yemen          Least Developed   \n",
       "167                              Zambia          Least Developed   \n",
       "168                            Zimbabwe     Developing Economies   \n",
       "\n",
       "     greenhousegas_emissione_mtco2equivalent  \\\n",
       "0                                   43.37700   \n",
       "1                                    8.12570   \n",
       "2                                        NaN   \n",
       "3                                   61.61076   \n",
       "4                                  338.96335   \n",
       "..                                       ...   \n",
       "164                                      NaN   \n",
       "165                                278.44186   \n",
       "166                                 37.94287   \n",
       "167                                      NaN   \n",
       "168                                 21.18472   \n",
       "\n",
       "     total_government_revenue_proportion_of_gdp_perc  fdi_inflows_millionusd  \\\n",
       "0                                           0.452478                38.53333   \n",
       "1                                           0.264761              1287.97818   \n",
       "2                                           0.404242              1381.81182   \n",
       "3                                           0.202190             -4098.47875   \n",
       "4                                           0.173196              6663.06211   \n",
       "..                                               ...                     ...   \n",
       "164                                              NaN               934.00000   \n",
       "165                                         0.218163             16120.00000   \n",
       "166                                              NaN              -282.09833   \n",
       "167                                         0.199646               547.96791   \n",
       "168                                         0.132036               280.00000   \n",
       "\n",
       "     annual_growth_rate_perc  \\\n",
       "0                  -0.041682   \n",
       "1                  -0.032064   \n",
       "2                  -0.066306   \n",
       "3                  -0.070799   \n",
       "4                  -0.107327   \n",
       "..                       ...   \n",
       "164                -0.298033   \n",
       "165                 0.019792   \n",
       "166                -0.010497   \n",
       "167                -0.055503   \n",
       "168                -0.006748   \n",
       "\n",
       "     proportion_of_population_with_primary_reliance_on_clean_fuels_a  \\\n",
       "0                                                 33.0                 \n",
       "1                                                 81.0                 \n",
       "2                                                 95.0                 \n",
       "3                                                 50.0                 \n",
       "4                                                 95.0                 \n",
       "..                                                 ...                 \n",
       "164                                               95.0                 \n",
       "165                                               65.0                 \n",
       "166                                               62.0                 \n",
       "167                                               10.0                 \n",
       "168                                               30.0                 \n",
       "\n",
       "     mortality_rate_perc  \\\n",
       "0                  0.353   \n",
       "1                  0.114   \n",
       "2                  0.139   \n",
       "3                  0.222   \n",
       "4                  0.157   \n",
       "..                   ...   \n",
       "164                0.148   \n",
       "165                0.212   \n",
       "166                0.276   \n",
       "167                0.246   \n",
       "168                0.284   \n",
       "\n",
       "     renewable_energy_share_on_the_total_energy_consumption  \\\n",
       "0                                                18.51        \n",
       "1                                                40.20        \n",
       "2                                                 0.16        \n",
       "3                                                54.69        \n",
       "4                                                10.74        \n",
       "..                                                 ...        \n",
       "164                                              15.62        \n",
       "165                                              18.65        \n",
       "166                                               3.11        \n",
       "167                                              84.50        \n",
       "168                                              81.50        \n",
       "\n",
       "     co2emissions_from_fuel_combustion_in_millions_of_tonnes  \\\n",
       "0                                                  NaN         \n",
       "1                                                 4.05         \n",
       "2                                               142.37         \n",
       "3                                                18.77         \n",
       "4                                               162.22         \n",
       "..                                                 ...         \n",
       "164                                              90.09         \n",
       "165                                             282.28         \n",
       "166                                               9.60         \n",
       "167                                               5.74         \n",
       "168                                              11.06         \n",
       "\n",
       "     fossilfuel_subsidies_consumption_and_production_billionusd  \\\n",
       "0                                              0.06024            \n",
       "1                                              0.00000            \n",
       "2                                              8.39641            \n",
       "3                                              1.52039            \n",
       "4                                              4.31072            \n",
       "..                                                 ...            \n",
       "164                                            4.75949            \n",
       "165                                            0.27111            \n",
       "166                                            0.00040            \n",
       "167                                            0.18908            \n",
       "168                                            0.00000            \n",
       "\n",
       "     randd_expenditure_proportionofgdp_perc  \\\n",
       "0                                       NaN   \n",
       "1                                  0.001541   \n",
       "2                                  0.005430   \n",
       "3                                  0.000323   \n",
       "4                                  0.004936   \n",
       "..                                      ...   \n",
       "164                                0.003371   \n",
       "165                                0.005267   \n",
       "166                                     NaN   \n",
       "167                                0.002782   \n",
       "168                                     NaN   \n",
       "\n",
       "     education_for_sustainable_development  land_degraded_over_total_land_area  \n",
       "0                                    0.000                                 8.0  \n",
       "1                                    0.719                                 8.0  \n",
       "2                                    0.625                                 1.0  \n",
       "3                                    0.000                                20.0  \n",
       "4                                    0.000                                39.0  \n",
       "..                                     ...                                 ...  \n",
       "164                                  0.000                                15.0  \n",
       "165                                  0.000                                31.0  \n",
       "166                                  0.000                                 NaN  \n",
       "167                                  0.000                                 7.0  \n",
       "168                                  0.000                                36.0  \n",
       "\n",
       "[169 rows x 14 columns]"
      ]
     },
     "execution_count": 446,
     "metadata": {},
     "output_type": "execute_result"
    }
   ],
   "source": [
    "latest_values"
   ]
  },
  {
   "cell_type": "code",
   "execution_count": 448,
   "metadata": {},
   "outputs": [
    {
     "name": "stdout",
     "output_type": "stream",
     "text": [
      "{'Developed Economies': 0, 'Developing Economies': 1, 'Economies in Transition': 2, 'Least Developed': 3}\n"
     ]
    }
   ],
   "source": [
    "# Encode target class\n",
    "encoder = LabelEncoder()\n",
    "encoder.fit(latest_values['level_of_development'])\n",
    "encoder_name_mapping = dict(zip(encoder.classes_, encoder.transform(encoder.classes_)))\n",
    "latest_values['level_of_development_encoded'] = encoder.transform(latest_values['level_of_development'])\n",
    "print(encoder_name_mapping)"
   ]
  },
  {
   "cell_type": "code",
   "execution_count": 486,
   "metadata": {},
   "outputs": [],
   "source": [
    "# Drop categorical columns that won't be used\n",
    "countries = latest_values['country']\n",
    "processed = latest_values.drop(columns=['country','level_of_development'])"
   ]
  },
  {
   "cell_type": "code",
   "execution_count": 487,
   "metadata": {},
   "outputs": [
    {
     "data": {
      "text/html": [
       "<div>\n",
       "<style scoped>\n",
       "    .dataframe tbody tr th:only-of-type {\n",
       "        vertical-align: middle;\n",
       "    }\n",
       "\n",
       "    .dataframe tbody tr th {\n",
       "        vertical-align: top;\n",
       "    }\n",
       "\n",
       "    .dataframe thead th {\n",
       "        text-align: right;\n",
       "    }\n",
       "</style>\n",
       "<table border=\"1\" class=\"dataframe\">\n",
       "  <thead>\n",
       "    <tr style=\"text-align: right;\">\n",
       "      <th></th>\n",
       "      <th>Missing %</th>\n",
       "      <th># Missing</th>\n",
       "    </tr>\n",
       "  </thead>\n",
       "  <tbody>\n",
       "    <tr>\n",
       "      <th>land_degraded_over_total_land_area</th>\n",
       "      <td>31.360947</td>\n",
       "      <td>53</td>\n",
       "    </tr>\n",
       "    <tr>\n",
       "      <th>greenhousegas_emissione_mtco2equivalent</th>\n",
       "      <td>28.402367</td>\n",
       "      <td>48</td>\n",
       "    </tr>\n",
       "    <tr>\n",
       "      <th>randd_expenditure_proportionofgdp_perc</th>\n",
       "      <td>21.301775</td>\n",
       "      <td>36</td>\n",
       "    </tr>\n",
       "    <tr>\n",
       "      <th>co2emissions_from_fuel_combustion_in_millions_of_tonnes</th>\n",
       "      <td>18.934911</td>\n",
       "      <td>32</td>\n",
       "    </tr>\n",
       "    <tr>\n",
       "      <th>total_government_revenue_proportion_of_gdp_perc</th>\n",
       "      <td>11.834320</td>\n",
       "      <td>20</td>\n",
       "    </tr>\n",
       "    <tr>\n",
       "      <th>proportion_of_population_with_primary_reliance_on_clean_fuels_a</th>\n",
       "      <td>4.142012</td>\n",
       "      <td>7</td>\n",
       "    </tr>\n",
       "    <tr>\n",
       "      <th>mortality_rate_perc</th>\n",
       "      <td>2.958580</td>\n",
       "      <td>5</td>\n",
       "    </tr>\n",
       "    <tr>\n",
       "      <th>fossilfuel_subsidies_consumption_and_production_billionusd</th>\n",
       "      <td>2.958580</td>\n",
       "      <td>5</td>\n",
       "    </tr>\n",
       "    <tr>\n",
       "      <th>education_for_sustainable_development</th>\n",
       "      <td>2.958580</td>\n",
       "      <td>5</td>\n",
       "    </tr>\n",
       "    <tr>\n",
       "      <th>fdi_inflows_millionusd</th>\n",
       "      <td>2.366864</td>\n",
       "      <td>4</td>\n",
       "    </tr>\n",
       "    <tr>\n",
       "      <th>annual_growth_rate_perc</th>\n",
       "      <td>1.775148</td>\n",
       "      <td>3</td>\n",
       "    </tr>\n",
       "    <tr>\n",
       "      <th>renewable_energy_share_on_the_total_energy_consumption</th>\n",
       "      <td>1.775148</td>\n",
       "      <td>3</td>\n",
       "    </tr>\n",
       "    <tr>\n",
       "      <th>level_of_development_encoded</th>\n",
       "      <td>0.000000</td>\n",
       "      <td>0</td>\n",
       "    </tr>\n",
       "  </tbody>\n",
       "</table>\n",
       "</div>"
      ],
      "text/plain": [
       "                                                    Missing %  # Missing\n",
       "land_degraded_over_total_land_area                  31.360947         53\n",
       "greenhousegas_emissione_mtco2equivalent             28.402367         48\n",
       "randd_expenditure_proportionofgdp_perc              21.301775         36\n",
       "co2emissions_from_fuel_combustion_in_millions_o...  18.934911         32\n",
       "total_government_revenue_proportion_of_gdp_perc     11.834320         20\n",
       "proportion_of_population_with_primary_reliance_...   4.142012          7\n",
       "mortality_rate_perc                                  2.958580          5\n",
       "fossilfuel_subsidies_consumption_and_production...   2.958580          5\n",
       "education_for_sustainable_development                2.958580          5\n",
       "fdi_inflows_millionusd                               2.366864          4\n",
       "annual_growth_rate_perc                              1.775148          3\n",
       "renewable_energy_share_on_the_total_energy_cons...   1.775148          3\n",
       "level_of_development_encoded                         0.000000          0"
      ]
     },
     "execution_count": 487,
     "metadata": {},
     "output_type": "execute_result"
    }
   ],
   "source": [
    "missing_values(processed)"
   ]
  },
  {
   "cell_type": "code",
   "execution_count": 488,
   "metadata": {},
   "outputs": [
    {
     "data": {
      "text/plain": [
       "(158, 8)"
      ]
     },
     "execution_count": 488,
     "metadata": {},
     "output_type": "execute_result"
    }
   ],
   "source": [
    "features_to_exclude  = ['land_degraded_over_total_land_area',\n",
    "       'greenhousegas_emissione_mtco2equivalent',\n",
    "       'randd_expenditure_proportionofgdp_perc',\n",
    "       'co2emissions_from_fuel_combustion_in_millions_of_tonnes',\n",
    "       'total_government_revenue_proportion_of_gdp_perc']\n",
    "\n",
    "cleaned = processed.drop(columns=features_to_exclude).dropna(how='any')\n",
    "cleaned.shape"
   ]
  },
  {
   "cell_type": "code",
   "execution_count": 491,
   "metadata": {},
   "outputs": [],
   "source": [
    "# Prepare data for supervised training\n",
    "y = cleaned['level_of_development_encoded']\n",
    "X = cleaned.drop(columns = ['level_of_development_encoded'])\n",
    "X_train, X_test, y_train, y_test = train_test_split(X, y, random_state=0, test_size=0.3, stratify = y)"
   ]
  },
  {
   "cell_type": "code",
   "execution_count": 492,
   "metadata": {},
   "outputs": [],
   "source": [
    "# Prepare data for unsupervised training\n",
    "# Instantiate Standard Scaler\n",
    "scaler = StandardScaler()\n",
    "# Fit & transform data.\n",
    "scaled = scaler.fit_transform(X)"
   ]
  }
 ],
 "metadata": {
  "kernelspec": {
   "display_name": "Python 3",
   "language": "python",
   "name": "python3"
  },
  "language_info": {
   "codemirror_mode": {
    "name": "ipython",
    "version": 3
   },
   "file_extension": ".py",
   "mimetype": "text/x-python",
   "name": "python",
   "nbconvert_exporter": "python",
   "pygments_lexer": "ipython3",
   "version": "3.10.9"
  },
  "orig_nbformat": 4,
  "vscode": {
   "interpreter": {
    "hash": "e7370f93d1d0cde622a1f8e1c04877d8463912d04d973331ad4851f04de6915a"
   }
  }
 },
 "nbformat": 4,
 "nbformat_minor": 2
}
